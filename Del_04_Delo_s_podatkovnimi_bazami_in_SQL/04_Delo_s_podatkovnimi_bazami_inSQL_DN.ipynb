{
 "cells": [
  {
   "cell_type": "markdown",
   "metadata": {},
   "source": [
    "# SQL"
   ]
  },
  {
   "cell_type": "markdown",
   "metadata": {},
   "source": [
    "## Shema\n",
    "\n",
    "Poveži se na `jobs.db` databazo.\n",
    "\n",
    "Prikaži shemo `recent_grads` tabele.\n",
    "\n",
    "Prilepite ukaz, ki ste ga izvedli in izpisane vrstice."
   ]
  },
  {
   "cell_type": "markdown",
   "metadata": {},
   "source": [
    "```sqlite3\n",
    "CREATE TABLE IF NOT EXISTS \"recent_grads\" (\n",
    "\"index\" INTEGER,\n",
    "  \"Rank\" INTEGER,\n",
    "  \"Major_code\" INTEGER,\n",
    "  \"Major\" TEXT,\n",
    "  \"Major_category\" TEXT,\n",
    "  \"Total\" INTEGER,\n",
    "  \"Sample_size\" INTEGER,\n",
    "  \"Men\" INTEGER,\n",
    "  \"Women\" INTEGER,\n",
    "  \"ShareWomen\" REAL,\n",
    "  \"Employed\" INTEGER,\n",
    "  \"Full_time\" INTEGER,\n",
    "  \"Part_time\" INTEGER,\n",
    "  \"Full_time_year_round\" INTEGER,\n",
    "  \"Unemployed\" INTEGER,\n",
    "  \"Unemployment_rate\" REAL,\n",
    "  \"Median\" INTEGER,\n",
    "  \"P25th\" INTEGER,\n",
    "  \"P75th\" INTEGER,\n",
    "  \"College_jobs\" INTEGER,\n",
    "  \"Non_college_jobs\" INTEGER,\n",
    "  \"Low_wage_jobs\" INTEGER\n",
    ");\n",
    "CREATE INDEX \"ix_recent_grads_index\"ON \"recent_grads\" (\"index\");\n",
    "```"
   ]
  },
  {
   "cell_type": "code",
   "execution_count": null,
   "metadata": {},
   "outputs": [],
   "source": [
    "# .schema recent_grads"
   ]
  },
  {
   "cell_type": "markdown",
   "metadata": {},
   "source": [
    "## SELECT and LIMIT\n",
    "\n",
    "Prikaži prvih 12 vrstic stolpcev `Rank` in `Major`, v tem vrstnem redu, tabele `recent_grads`.\n",
    "\n",
    "Prilepite ukaz, ki ste ga izvedli in izpisane vrstice."
   ]
  },
  {
   "cell_type": "markdown",
   "metadata": {},
   "source": [
    "```sql\n",
    "1|PETROLEUM ENGINEERING\n",
    "2|MINING AND MINERAL ENGINEERING\n",
    "3|METALLURGICAL ENGINEERING\n",
    "4|NAVAL ARCHITECTURE AND MARINE ENGINEERING\n",
    "5|CHEMICAL ENGINEERING\n",
    "6|NUCLEAR ENGINEERING\n",
    "7|ACTUARIAL SCIENCE\n",
    "8|ASTRONOMY AND ASTROPHYSICS\n",
    "9|MECHANICAL ENGINEERING\n",
    "10|ELECTRICAL ENGINEERING\n",
    "11|COMPUTER ENGINEERING\n",
    "12|AEROSPACE ENGINEERING\n",
    "```"
   ]
  },
  {
   "cell_type": "code",
   "execution_count": null,
   "metadata": {},
   "outputs": [],
   "source": [
    "# sqlite> select Rank,Major from recent_grads LIMIT 12;"
   ]
  },
  {
   "cell_type": "markdown",
   "metadata": {},
   "source": [
    "## WHERE\n",
    "\n",
    "Prikaži stolpca `Major`, `Unemployment_rate` in `Total`, kjer je `Unemployment_rate` večji od 10% in stolpec `Total` (celotno število diplomantov) manjši od 1000.\n",
    "\n",
    "Prilepite ukaz, ki ste ga izvedli in izpisane vrstice."
   ]
  },
  {
   "cell_type": "markdown",
   "metadata": {},
   "source": [
    "```sql\n",
    "MINING AND MINERAL ENGINEERING|0.117241379|756\n",
    "SCHOOL STUDENT COUNSELING|0.107579462|818\n",
    "```"
   ]
  },
  {
   "cell_type": "code",
   "execution_count": null,
   "metadata": {},
   "outputs": [],
   "source": [
    "#sqlite> select Major,Unemployment_rate,Total from recent_grads Where Unemployment_rate>0.1 and Total<1000;"
   ]
  },
  {
   "cell_type": "markdown",
   "metadata": {},
   "source": [
    "## ORDER BY\n",
    "\n",
    "Prikažite prvih 5 stolpecv `Major`, `Mediana`. Vrstni red naj bo naraščajoč glede na stolpec `Mediana`.\n",
    "\n",
    "Prilepite ukaz, ki ste ga izvedli in izpisane vrstice."
   ]
  },
  {
   "cell_type": "markdown",
   "metadata": {},
   "source": [
    "```sql\n",
    "LIBRARY SCIENCE|22000\n",
    "COUNSELING PSYCHOLOGY|23400\n",
    "EDUCATIONAL PSYCHOLOGY|25000\n",
    "CLINICAL PSYCHOLOGY|25000\n",
    "ZOOLOGY|26000\n",
    "```"
   ]
  },
  {
   "cell_type": "code",
   "execution_count": null,
   "metadata": {},
   "outputs": [],
   "source": [
    "#sqlite> select Major,Median from recent_grads order by Median LIMIT 5;"
   ]
  },
  {
   "cell_type": "markdown",
   "metadata": {},
   "source": [
    "# Python SQLite3"
   ]
  },
  {
   "cell_type": "code",
   "execution_count": 1,
   "metadata": {},
   "outputs": [],
   "source": [
    "import sqlite3"
   ]
  },
  {
   "cell_type": "markdown",
   "metadata": {},
   "source": [
    "Povežite se na `job.db` databazo.\n",
    "\n",
    "Prikažite vrstice od 10 do 15, za stolpce `Rank`, `Major`, `Total`. "
   ]
  },
  {
   "cell_type": "code",
   "execution_count": 2,
   "metadata": {},
   "outputs": [
    {
     "data": {
      "text/plain": [
       "[(11, 'COMPUTER ENGINEERING', 41542),\n",
       " (12, 'AEROSPACE ENGINEERING', 15058),\n",
       " (13, 'BIOMEDICAL ENGINEERING', 14955),\n",
       " (14, 'MATERIALS SCIENCE', 4279),\n",
       " (15, 'ENGINEERING MECHANICS PHYSICS AND SCIENCE', 4321)]"
      ]
     },
     "execution_count": 2,
     "metadata": {},
     "output_type": "execute_result"
    }
   ],
   "source": [
    "# Rešitev\n",
    "conn=sqlite3.connect('data/jobs.db')\n",
    "cur = conn.cursor()\n",
    "cur.execute(\"SELECT Rank,Major,Total FROM recent_grads Limit 15\")\n",
    " \n",
    "rows = cur.fetchall()\n",
    "conn.close()\n",
    "rows[10:]\n"
   ]
  },
  {
   "cell_type": "markdown",
   "metadata": {},
   "source": [
    "# SQLAlchemy and Pandas\n",
    "\n"
   ]
  },
  {
   "cell_type": "code",
   "execution_count": 3,
   "metadata": {},
   "outputs": [],
   "source": [
    "import sqlalchemy\n",
    "from sqlalchemy import create_engine\n",
    "from sqlalchemy import DateTime, Integer, String, Boolean\n",
    "\n",
    "import pandas as pd\n",
    "import numpy as np"
   ]
  },
  {
   "cell_type": "markdown",
   "metadata": {},
   "source": [
    "Povežite se na `logs.db` databazo.\n",
    "\n",
    "Preberite celotno `weblog` tabelo v DataFrame in prikažite prvih 5 vrstic.\n",
    "(stolpec `id` naj bo index DataFrama)"
   ]
  },
  {
   "cell_type": "code",
   "execution_count": 4,
   "metadata": {},
   "outputs": [
    {
     "data": {
      "text/html": [
       "<div>\n",
       "<style scoped>\n",
       "    .dataframe tbody tr th:only-of-type {\n",
       "        vertical-align: middle;\n",
       "    }\n",
       "\n",
       "    .dataframe tbody tr th {\n",
       "        vertical-align: top;\n",
       "    }\n",
       "\n",
       "    .dataframe thead th {\n",
       "        text-align: right;\n",
       "    }\n",
       "</style>\n",
       "<table border=\"1\" class=\"dataframe\">\n",
       "  <thead>\n",
       "    <tr style=\"text-align: right;\">\n",
       "      <th></th>\n",
       "      <th>ip</th>\n",
       "      <th>timestamp</th>\n",
       "      <th>status</th>\n",
       "      <th>method</th>\n",
       "    </tr>\n",
       "    <tr>\n",
       "      <th>id</th>\n",
       "      <th></th>\n",
       "      <th></th>\n",
       "      <th></th>\n",
       "      <th></th>\n",
       "    </tr>\n",
       "  </thead>\n",
       "  <tbody>\n",
       "    <tr>\n",
       "      <th>1</th>\n",
       "      <td>10.128.2.1</td>\n",
       "      <td>2017-11-29 06:58:55</td>\n",
       "      <td>200</td>\n",
       "      <td>GET</td>\n",
       "    </tr>\n",
       "    <tr>\n",
       "      <th>2</th>\n",
       "      <td>10.128.2.1</td>\n",
       "      <td>2017-11-29 06:59:02</td>\n",
       "      <td>302</td>\n",
       "      <td>POST</td>\n",
       "    </tr>\n",
       "    <tr>\n",
       "      <th>3</th>\n",
       "      <td>10.128.2.1</td>\n",
       "      <td>2017-11-29 06:59:03</td>\n",
       "      <td>200</td>\n",
       "      <td>GET</td>\n",
       "    </tr>\n",
       "    <tr>\n",
       "      <th>4</th>\n",
       "      <td>10.131.2.1</td>\n",
       "      <td>2017-11-29 06:59:04</td>\n",
       "      <td>200</td>\n",
       "      <td>GET</td>\n",
       "    </tr>\n",
       "    <tr>\n",
       "      <th>5</th>\n",
       "      <td>10.130.2.1</td>\n",
       "      <td>2017-11-29 06:59:06</td>\n",
       "      <td>200</td>\n",
       "      <td>GET</td>\n",
       "    </tr>\n",
       "  </tbody>\n",
       "</table>\n",
       "</div>"
      ],
      "text/plain": [
       "            ip           timestamp  status method\n",
       "id                                               \n",
       "1   10.128.2.1 2017-11-29 06:58:55     200    GET\n",
       "2   10.128.2.1 2017-11-29 06:59:02     302   POST\n",
       "3   10.128.2.1 2017-11-29 06:59:03     200    GET\n",
       "4   10.131.2.1 2017-11-29 06:59:04     200    GET\n",
       "5   10.130.2.1 2017-11-29 06:59:06     200    GET"
      ]
     },
     "execution_count": 4,
     "metadata": {},
     "output_type": "execute_result"
    }
   ],
   "source": [
    "# Rešitev\n",
    "eng = create_engine('sqlite:///data/logs.db')\n",
    "\n",
    "df=pd.read_sql_table('weblog',eng,index_col='id')\n",
    "df.head()\n"
   ]
  },
  {
   "cell_type": "markdown",
   "metadata": {},
   "source": [
    "Najdite najpogostejši `ip`.\n",
    "DataFramu dodajte stolpec `Ban`. Če vrstica vsebuje najpogostejši ip naj bo v `Ban` stolpcu vrednost `True`, drugače naj bo vrenost `False`."
   ]
  },
  {
   "cell_type": "code",
   "execution_count": 5,
   "metadata": {},
   "outputs": [
    {
     "data": {
      "text/plain": [
       "'10.131.2.1'"
      ]
     },
     "execution_count": 5,
     "metadata": {},
     "output_type": "execute_result"
    }
   ],
   "source": [
    "# Rešitev\n",
    "df['ip'].value_counts().index[0]"
   ]
  },
  {
   "cell_type": "code",
   "execution_count": 6,
   "metadata": {},
   "outputs": [],
   "source": [
    "df['Ban']=False"
   ]
  },
  {
   "cell_type": "code",
   "execution_count": 7,
   "metadata": {},
   "outputs": [
    {
     "name": "stderr",
     "output_type": "stream",
     "text": [
      "/home/katja/anaconda3/lib/python3.7/site-packages/ipykernel_launcher.py:1: SettingWithCopyWarning: \n",
      "A value is trying to be set on a copy of a slice from a DataFrame\n",
      "\n",
      "See the caveats in the documentation: http://pandas.pydata.org/pandas-docs/stable/indexing.html#indexing-view-versus-copy\n",
      "  \"\"\"Entry point for launching an IPython kernel.\n"
     ]
    }
   ],
   "source": [
    "df['Ban'][df['ip']==df['ip'].value_counts().index[0]]=True"
   ]
  },
  {
   "cell_type": "code",
   "execution_count": 8,
   "metadata": {},
   "outputs": [
    {
     "data": {
      "text/html": [
       "<div>\n",
       "<style scoped>\n",
       "    .dataframe tbody tr th:only-of-type {\n",
       "        vertical-align: middle;\n",
       "    }\n",
       "\n",
       "    .dataframe tbody tr th {\n",
       "        vertical-align: top;\n",
       "    }\n",
       "\n",
       "    .dataframe thead th {\n",
       "        text-align: right;\n",
       "    }\n",
       "</style>\n",
       "<table border=\"1\" class=\"dataframe\">\n",
       "  <thead>\n",
       "    <tr style=\"text-align: right;\">\n",
       "      <th></th>\n",
       "      <th>ip</th>\n",
       "      <th>timestamp</th>\n",
       "      <th>status</th>\n",
       "      <th>method</th>\n",
       "      <th>Ban</th>\n",
       "    </tr>\n",
       "    <tr>\n",
       "      <th>id</th>\n",
       "      <th></th>\n",
       "      <th></th>\n",
       "      <th></th>\n",
       "      <th></th>\n",
       "      <th></th>\n",
       "    </tr>\n",
       "  </thead>\n",
       "  <tbody>\n",
       "    <tr>\n",
       "      <th>1</th>\n",
       "      <td>10.128.2.1</td>\n",
       "      <td>2017-11-29 06:58:55</td>\n",
       "      <td>200</td>\n",
       "      <td>GET</td>\n",
       "      <td>False</td>\n",
       "    </tr>\n",
       "    <tr>\n",
       "      <th>2</th>\n",
       "      <td>10.128.2.1</td>\n",
       "      <td>2017-11-29 06:59:02</td>\n",
       "      <td>302</td>\n",
       "      <td>POST</td>\n",
       "      <td>False</td>\n",
       "    </tr>\n",
       "    <tr>\n",
       "      <th>3</th>\n",
       "      <td>10.128.2.1</td>\n",
       "      <td>2017-11-29 06:59:03</td>\n",
       "      <td>200</td>\n",
       "      <td>GET</td>\n",
       "      <td>False</td>\n",
       "    </tr>\n",
       "    <tr>\n",
       "      <th>4</th>\n",
       "      <td>10.131.2.1</td>\n",
       "      <td>2017-11-29 06:59:04</td>\n",
       "      <td>200</td>\n",
       "      <td>GET</td>\n",
       "      <td>True</td>\n",
       "    </tr>\n",
       "    <tr>\n",
       "      <th>5</th>\n",
       "      <td>10.130.2.1</td>\n",
       "      <td>2017-11-29 06:59:06</td>\n",
       "      <td>200</td>\n",
       "      <td>GET</td>\n",
       "      <td>False</td>\n",
       "    </tr>\n",
       "    <tr>\n",
       "      <th>6</th>\n",
       "      <td>10.130.2.1</td>\n",
       "      <td>2017-11-29 06:59:19</td>\n",
       "      <td>200</td>\n",
       "      <td>GET</td>\n",
       "      <td>False</td>\n",
       "    </tr>\n",
       "    <tr>\n",
       "      <th>7</th>\n",
       "      <td>10.128.2.1</td>\n",
       "      <td>2017-11-29 06:59:19</td>\n",
       "      <td>200</td>\n",
       "      <td>GET</td>\n",
       "      <td>False</td>\n",
       "    </tr>\n",
       "    <tr>\n",
       "      <th>8</th>\n",
       "      <td>10.131.2.1</td>\n",
       "      <td>2017-11-29 06:59:19</td>\n",
       "      <td>200</td>\n",
       "      <td>GET</td>\n",
       "      <td>True</td>\n",
       "    </tr>\n",
       "    <tr>\n",
       "      <th>9</th>\n",
       "      <td>10.131.2.1</td>\n",
       "      <td>2017-11-29 06:59:30</td>\n",
       "      <td>200</td>\n",
       "      <td>GET</td>\n",
       "      <td>True</td>\n",
       "    </tr>\n",
       "    <tr>\n",
       "      <th>10</th>\n",
       "      <td>10.131.2.1</td>\n",
       "      <td>2017-11-29 06:59:37</td>\n",
       "      <td>302</td>\n",
       "      <td>GET</td>\n",
       "      <td>True</td>\n",
       "    </tr>\n",
       "  </tbody>\n",
       "</table>\n",
       "</div>"
      ],
      "text/plain": [
       "            ip           timestamp  status method    Ban\n",
       "id                                                      \n",
       "1   10.128.2.1 2017-11-29 06:58:55     200    GET  False\n",
       "2   10.128.2.1 2017-11-29 06:59:02     302   POST  False\n",
       "3   10.128.2.1 2017-11-29 06:59:03     200    GET  False\n",
       "4   10.131.2.1 2017-11-29 06:59:04     200    GET   True\n",
       "5   10.130.2.1 2017-11-29 06:59:06     200    GET  False\n",
       "6   10.130.2.1 2017-11-29 06:59:19     200    GET  False\n",
       "7   10.128.2.1 2017-11-29 06:59:19     200    GET  False\n",
       "8   10.131.2.1 2017-11-29 06:59:19     200    GET   True\n",
       "9   10.131.2.1 2017-11-29 06:59:30     200    GET   True\n",
       "10  10.131.2.1 2017-11-29 06:59:37     302    GET   True"
      ]
     },
     "execution_count": 8,
     "metadata": {},
     "output_type": "execute_result"
    }
   ],
   "source": [
    "df.head(10)"
   ]
  },
  {
   "cell_type": "markdown",
   "metadata": {},
   "source": [
    "DataFrame zapišite v `logs.db` databazo, v `ban_log` tabelo. Če tabela še ne obstaja jo ustvarite.\n",
    "\n",
    "Glede databaznih stolpcev in njihovih data-tipov si pomagajte s spodnjim `dtype_dict`."
   ]
  },
  {
   "cell_type": "code",
   "execution_count": 9,
   "metadata": {},
   "outputs": [],
   "source": [
    "dtype_dict = {'ip': String(15), \n",
    "              'timestamp': DateTime(), \n",
    "              'status': Integer(), \n",
    "              'method': String(10), \n",
    "              'Ban': Boolean()\n",
    "}"
   ]
  },
  {
   "cell_type": "code",
   "execution_count": 10,
   "metadata": {},
   "outputs": [],
   "source": [
    "# Rešitev\n",
    "df.to_sql(name='ban_log',con=eng,index=False,if_exists='replace',dtype=dtype_dict)"
   ]
  },
  {
   "cell_type": "code",
   "execution_count": 11,
   "metadata": {},
   "outputs": [
    {
     "data": {
      "text/html": [
       "<div>\n",
       "<style scoped>\n",
       "    .dataframe tbody tr th:only-of-type {\n",
       "        vertical-align: middle;\n",
       "    }\n",
       "\n",
       "    .dataframe tbody tr th {\n",
       "        vertical-align: top;\n",
       "    }\n",
       "\n",
       "    .dataframe thead th {\n",
       "        text-align: right;\n",
       "    }\n",
       "</style>\n",
       "<table border=\"1\" class=\"dataframe\">\n",
       "  <thead>\n",
       "    <tr style=\"text-align: right;\">\n",
       "      <th></th>\n",
       "      <th>ip</th>\n",
       "      <th>timestamp</th>\n",
       "      <th>status</th>\n",
       "      <th>method</th>\n",
       "      <th>Ban</th>\n",
       "    </tr>\n",
       "  </thead>\n",
       "  <tbody>\n",
       "    <tr>\n",
       "      <th>0</th>\n",
       "      <td>10.128.2.1</td>\n",
       "      <td>2017-11-29 06:58:55</td>\n",
       "      <td>200</td>\n",
       "      <td>GET</td>\n",
       "      <td>False</td>\n",
       "    </tr>\n",
       "    <tr>\n",
       "      <th>1</th>\n",
       "      <td>10.128.2.1</td>\n",
       "      <td>2017-11-29 06:59:02</td>\n",
       "      <td>302</td>\n",
       "      <td>POST</td>\n",
       "      <td>False</td>\n",
       "    </tr>\n",
       "    <tr>\n",
       "      <th>2</th>\n",
       "      <td>10.128.2.1</td>\n",
       "      <td>2017-11-29 06:59:03</td>\n",
       "      <td>200</td>\n",
       "      <td>GET</td>\n",
       "      <td>False</td>\n",
       "    </tr>\n",
       "    <tr>\n",
       "      <th>3</th>\n",
       "      <td>10.131.2.1</td>\n",
       "      <td>2017-11-29 06:59:04</td>\n",
       "      <td>200</td>\n",
       "      <td>GET</td>\n",
       "      <td>True</td>\n",
       "    </tr>\n",
       "    <tr>\n",
       "      <th>4</th>\n",
       "      <td>10.130.2.1</td>\n",
       "      <td>2017-11-29 06:59:06</td>\n",
       "      <td>200</td>\n",
       "      <td>GET</td>\n",
       "      <td>False</td>\n",
       "    </tr>\n",
       "  </tbody>\n",
       "</table>\n",
       "</div>"
      ],
      "text/plain": [
       "           ip           timestamp  status method    Ban\n",
       "0  10.128.2.1 2017-11-29 06:58:55     200    GET  False\n",
       "1  10.128.2.1 2017-11-29 06:59:02     302   POST  False\n",
       "2  10.128.2.1 2017-11-29 06:59:03     200    GET  False\n",
       "3  10.131.2.1 2017-11-29 06:59:04     200    GET   True\n",
       "4  10.130.2.1 2017-11-29 06:59:06     200    GET  False"
      ]
     },
     "execution_count": 11,
     "metadata": {},
     "output_type": "execute_result"
    }
   ],
   "source": [
    "df=pd.read_sql_table('ban_log',eng)\n",
    "df.head()"
   ]
  },
  {
   "cell_type": "code",
   "execution_count": null,
   "metadata": {},
   "outputs": [],
   "source": []
  }
 ],
 "metadata": {
  "kernelspec": {
   "display_name": "Python 3",
   "language": "python",
   "name": "python3"
  },
  "language_info": {
   "codemirror_mode": {
    "name": "ipython",
    "version": 3
   },
   "file_extension": ".py",
   "mimetype": "text/x-python",
   "name": "python",
   "nbconvert_exporter": "python",
   "pygments_lexer": "ipython3",
   "version": "3.7.3"
  },
  "toc": {
   "base_numbering": 1,
   "nav_menu": {},
   "number_sections": true,
   "sideBar": true,
   "skip_h1_title": false,
   "title_cell": "Table of Contents",
   "title_sidebar": "Contents",
   "toc_cell": false,
   "toc_position": {},
   "toc_section_display": true,
   "toc_window_display": false
  }
 },
 "nbformat": 4,
 "nbformat_minor": 2
}
