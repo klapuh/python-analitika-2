{
 "cells": [
  {
   "cell_type": "markdown",
   "metadata": {},
   "source": [
    "# Del 5: Procesiranje velikih datasetov v pandas-u"
   ]
  },
  {
   "cell_type": "markdown",
   "metadata": {},
   "source": [
    "Pripravimo datasete:"
   ]
  },
  {
   "cell_type": "code",
   "execution_count": 1,
   "metadata": {},
   "outputs": [],
   "source": [
    "!tar -xJf data/data_del_05.tar.xz -C ./data/"
   ]
  },
  {
   "cell_type": "markdown",
   "metadata": {},
   "source": [
    "Viri:\n",
    "- [Tutorial: Using Pandas with Large Data Sets in Python](https://www.dataquest.io/blog/pandas-big-data/)\n",
    "- [How to handle large datasets in Python with Pandas and Dask](https://towardsdatascience.com/how-to-handle-large-datasets-in-python-with-pandas-and-dask-34f43a897d55)\n",
    "- [Why is Python so slow?](https://hackernoon.com/why-is-python-so-slow-e5074b6fe55b)\n",
    "- [Why Python is Slow: Looking Under the Hood](https://jakevdp.github.io/blog/2014/05/09/why-python-is-slow/)\n",
    "- [Make working with large DataFrames easier, at least for your memory](https://towardsdatascience.com/make-working-with-large-dataframes-easier-at-least-for-your-memory-6f52b5f4b5c4)\n",
    "- [“Large data” work flows using pandas](https://stackoverflow.com/questions/14262433/large-data-work-flows-using-pandas)\n",
    "- [Why and How to Use Pandas with Large Data](https://towardsdatascience.com/why-and-how-to-use-pandas-with-large-data-9594dda2ea4c)\n",
    "- [4 Strategies to Deal With Large Datasets Using Pandas](https://www.codementor.io/guidotournois/4-strategies-to-deal-with-large-datasets-using-pandas-qdw3an95k)"
   ]
  },
  {
   "cell_type": "markdown",
   "metadata": {},
   "source": [
    "## Introduction & Data"
   ]
  },
  {
   "cell_type": "markdown",
   "metadata": {},
   "source": [
    "We'll be working with data on the Museum of Modern Art's exhibitions. More specifically, we'll use the file `MoMAExhibitions1929to1989.csv`, which you can download from [data.world](https://data.world/moma/exhibitions)."
   ]
  },
  {
   "cell_type": "code",
   "execution_count": 2,
   "metadata": {},
   "outputs": [],
   "source": [
    "import pandas as pd\n",
    "import numpy as np"
   ]
  },
  {
   "cell_type": "code",
   "execution_count": 3,
   "metadata": {},
   "outputs": [],
   "source": [
    "moma = pd.read_csv('data/MoMAExhibitions1929to1989.csv')"
   ]
  },
  {
   "cell_type": "code",
   "execution_count": 4,
   "metadata": {},
   "outputs": [
    {
     "data": {
      "text/html": [
       "<div>\n",
       "<style scoped>\n",
       "    .dataframe tbody tr th:only-of-type {\n",
       "        vertical-align: middle;\n",
       "    }\n",
       "\n",
       "    .dataframe tbody tr th {\n",
       "        vertical-align: top;\n",
       "    }\n",
       "\n",
       "    .dataframe thead th {\n",
       "        text-align: right;\n",
       "    }\n",
       "</style>\n",
       "<table border=\"1\" class=\"dataframe\">\n",
       "  <thead>\n",
       "    <tr style=\"text-align: right;\">\n",
       "      <th></th>\n",
       "      <th>ExhibitionID</th>\n",
       "      <th>ExhibitionNumber</th>\n",
       "      <th>ExhibitionTitle</th>\n",
       "      <th>ExhibitionCitationDate</th>\n",
       "      <th>ExhibitionBeginDate</th>\n",
       "      <th>ExhibitionEndDate</th>\n",
       "      <th>ExhibitionSortOrder</th>\n",
       "      <th>ExhibitionURL</th>\n",
       "      <th>ExhibitionRole</th>\n",
       "      <th>ConstituentID</th>\n",
       "      <th>...</th>\n",
       "      <th>Institution</th>\n",
       "      <th>Nationality</th>\n",
       "      <th>ConstituentBeginDate</th>\n",
       "      <th>ConstituentEndDate</th>\n",
       "      <th>ArtistBio</th>\n",
       "      <th>Gender</th>\n",
       "      <th>VIAFID</th>\n",
       "      <th>WikidataID</th>\n",
       "      <th>ULANID</th>\n",
       "      <th>ConstituentURL</th>\n",
       "    </tr>\n",
       "  </thead>\n",
       "  <tbody>\n",
       "    <tr>\n",
       "      <th>0</th>\n",
       "      <td>2557.0</td>\n",
       "      <td>1</td>\n",
       "      <td>Cézanne, Gauguin, Seurat, Van Gogh</td>\n",
       "      <td>[MoMA Exh. #1, November 7-December 7, 1929]</td>\n",
       "      <td>11/7/1929</td>\n",
       "      <td>12/7/1929</td>\n",
       "      <td>1.0</td>\n",
       "      <td>http://www.moma.org/calendar/exhibitions/1767</td>\n",
       "      <td>Director</td>\n",
       "      <td>9168.0</td>\n",
       "      <td>...</td>\n",
       "      <td>NaN</td>\n",
       "      <td>American</td>\n",
       "      <td>1902.0</td>\n",
       "      <td>1981.0</td>\n",
       "      <td>American, 1902–1981</td>\n",
       "      <td>Male</td>\n",
       "      <td>109252853.0</td>\n",
       "      <td>Q711362</td>\n",
       "      <td>500241556.0</td>\n",
       "      <td>moma.org/artists/9168</td>\n",
       "    </tr>\n",
       "    <tr>\n",
       "      <th>1</th>\n",
       "      <td>2557.0</td>\n",
       "      <td>1</td>\n",
       "      <td>Cézanne, Gauguin, Seurat, Van Gogh</td>\n",
       "      <td>[MoMA Exh. #1, November 7-December 7, 1929]</td>\n",
       "      <td>11/7/1929</td>\n",
       "      <td>12/7/1929</td>\n",
       "      <td>1.0</td>\n",
       "      <td>http://www.moma.org/calendar/exhibitions/1767</td>\n",
       "      <td>Artist</td>\n",
       "      <td>1053.0</td>\n",
       "      <td>...</td>\n",
       "      <td>NaN</td>\n",
       "      <td>French</td>\n",
       "      <td>1839.0</td>\n",
       "      <td>1906.0</td>\n",
       "      <td>French, 1839–1906</td>\n",
       "      <td>Male</td>\n",
       "      <td>39374836.0</td>\n",
       "      <td>Q35548</td>\n",
       "      <td>500004793.0</td>\n",
       "      <td>moma.org/artists/1053</td>\n",
       "    </tr>\n",
       "  </tbody>\n",
       "</table>\n",
       "<p>2 rows × 27 columns</p>\n",
       "</div>"
      ],
      "text/plain": [
       "   ExhibitionID ExhibitionNumber                     ExhibitionTitle  \\\n",
       "0        2557.0                1  Cézanne, Gauguin, Seurat, Van Gogh   \n",
       "1        2557.0                1  Cézanne, Gauguin, Seurat, Van Gogh   \n",
       "\n",
       "                        ExhibitionCitationDate ExhibitionBeginDate  \\\n",
       "0  [MoMA Exh. #1, November 7-December 7, 1929]           11/7/1929   \n",
       "1  [MoMA Exh. #1, November 7-December 7, 1929]           11/7/1929   \n",
       "\n",
       "  ExhibitionEndDate  ExhibitionSortOrder  \\\n",
       "0         12/7/1929                  1.0   \n",
       "1         12/7/1929                  1.0   \n",
       "\n",
       "                                   ExhibitionURL ExhibitionRole  \\\n",
       "0  http://www.moma.org/calendar/exhibitions/1767       Director   \n",
       "1  http://www.moma.org/calendar/exhibitions/1767         Artist   \n",
       "\n",
       "   ConstituentID  ... Institution Nationality ConstituentBeginDate  \\\n",
       "0         9168.0  ...         NaN    American               1902.0   \n",
       "1         1053.0  ...         NaN      French               1839.0   \n",
       "\n",
       "  ConstituentEndDate            ArtistBio Gender       VIAFID WikidataID  \\\n",
       "0             1981.0  American, 1902–1981   Male  109252853.0    Q711362   \n",
       "1             1906.0    French, 1839–1906   Male   39374836.0     Q35548   \n",
       "\n",
       "        ULANID         ConstituentURL  \n",
       "0  500241556.0  moma.org/artists/9168  \n",
       "1  500004793.0  moma.org/artists/1053  \n",
       "\n",
       "[2 rows x 27 columns]"
      ]
     },
     "execution_count": 4,
     "metadata": {},
     "output_type": "execute_result"
    }
   ],
   "source": [
    "moma.head(2)"
   ]
  },
  {
   "cell_type": "code",
   "execution_count": 5,
   "metadata": {},
   "outputs": [
    {
     "name": "stdout",
     "output_type": "stream",
     "text": [
      "<class 'pandas.core.frame.DataFrame'>\n",
      "RangeIndex: 34558 entries, 0 to 34557\n",
      "Data columns (total 27 columns):\n",
      "ExhibitionID              34129 non-null float64\n",
      "ExhibitionNumber          34558 non-null object\n",
      "ExhibitionTitle           34558 non-null object\n",
      "ExhibitionCitationDate    34557 non-null object\n",
      "ExhibitionBeginDate       34558 non-null object\n",
      "ExhibitionEndDate         33354 non-null object\n",
      "ExhibitionSortOrder       34558 non-null float64\n",
      "ExhibitionURL             34125 non-null object\n",
      "ExhibitionRole            34424 non-null object\n",
      "ConstituentID             34044 non-null float64\n",
      "ConstituentType           34424 non-null object\n",
      "DisplayName               34424 non-null object\n",
      "AlphaSort                 34424 non-null object\n",
      "FirstName                 31499 non-null object\n",
      "MiddleName                3804 non-null object\n",
      "LastName                  31998 non-null object\n",
      "Suffix                    157 non-null object\n",
      "Institution               2458 non-null object\n",
      "Nationality               26072 non-null object\n",
      "ConstituentBeginDate      25290 non-null float64\n",
      "ConstituentEndDate        19819 non-null float64\n",
      "ArtistBio                 26089 non-null object\n",
      "Gender                    25796 non-null object\n",
      "VIAFID                    26996 non-null float64\n",
      "WikidataID                22241 non-null object\n",
      "ULANID                    21688 non-null float64\n",
      "ConstituentURL            34044 non-null object\n",
      "dtypes: float64(7), object(20)\n",
      "memory usage: 7.1+ MB\n"
     ]
    }
   ],
   "source": [
    "moma.info()"
   ]
  },
  {
   "cell_type": "markdown",
   "metadata": {},
   "source": [
    "## Optimizing Dataframe Memory Footprint"
   ]
  },
  {
   "cell_type": "markdown",
   "metadata": {},
   "source": [
    "### The Internal Representation of a Dataframe"
   ]
  },
  {
   "cell_type": "markdown",
   "metadata": {},
   "source": [
    "<img src=\"./images/pandas_dataframe_blocks.png\">"
   ]
  },
  {
   "cell_type": "code",
   "execution_count": 6,
   "metadata": {},
   "outputs": [
    {
     "data": {
      "text/plain": [
       "BlockManager\n",
       "Items: Index(['ExhibitionID', 'ExhibitionNumber', 'ExhibitionTitle',\n",
       "       'ExhibitionCitationDate', 'ExhibitionBeginDate', 'ExhibitionEndDate',\n",
       "       'ExhibitionSortOrder', 'ExhibitionURL', 'ExhibitionRole',\n",
       "       'ConstituentID', 'ConstituentType', 'DisplayName', 'AlphaSort',\n",
       "       'FirstName', 'MiddleName', 'LastName', 'Suffix', 'Institution',\n",
       "       'Nationality', 'ConstituentBeginDate', 'ConstituentEndDate',\n",
       "       'ArtistBio', 'Gender', 'VIAFID', 'WikidataID', 'ULANID',\n",
       "       'ConstituentURL'],\n",
       "      dtype='object')\n",
       "Axis 1: RangeIndex(start=0, stop=34558, step=1)\n",
       "FloatBlock: [0, 6, 9, 19, 20, 23, 25], 7 x 34558, dtype: float64\n",
       "ObjectBlock: [1, 2, 3, 4, 5, 7, 8, 10, 11, 12, 13, 14, 15, 16, 17, 18, 21, 22, 24, 26], 20 x 34558, dtype: object"
      ]
     },
     "execution_count": 6,
     "metadata": {},
     "output_type": "execute_result"
    }
   ],
   "source": [
    "moma._data"
   ]
  },
  {
   "cell_type": "markdown",
   "metadata": {},
   "source": [
    "### Dataframe Memory Footprint"
   ]
  },
  {
   "cell_type": "markdown",
   "metadata": {},
   "source": [
    "#### Float Columns"
   ]
  },
  {
   "cell_type": "code",
   "execution_count": 7,
   "metadata": {},
   "outputs": [
    {
     "data": {
      "text/plain": [
       "276456"
      ]
     },
     "execution_count": 7,
     "metadata": {},
     "output_type": "execute_result"
    }
   ],
   "source": [
    "34557*8 #porabi 1 stolpec float64 - 8 bajtov"
   ]
  },
  {
   "cell_type": "code",
   "execution_count": 8,
   "metadata": {},
   "outputs": [
    {
     "data": {
      "text/plain": [
       "276464"
      ]
     },
     "execution_count": 8,
     "metadata": {},
     "output_type": "execute_result"
    }
   ],
   "source": [
    "moma['ExhibitionID'].nbytes"
   ]
  },
  {
   "cell_type": "code",
   "execution_count": 9,
   "metadata": {},
   "outputs": [
    {
     "data": {
      "text/plain": [
       "0.2636566162109375"
      ]
     },
     "execution_count": 9,
     "metadata": {},
     "output_type": "execute_result"
    }
   ],
   "source": [
    "276464/(1024*1024) #megabajt"
   ]
  },
  {
   "cell_type": "markdown",
   "metadata": {},
   "source": [
    "#### Object Columns"
   ]
  },
  {
   "cell_type": "markdown",
   "metadata": {},
   "source": [
    "<img src=\"./images/numpy_vs_python.png\">"
   ]
  },
  {
   "cell_type": "markdown",
   "metadata": {},
   "source": [
    "#### True Memory Footprint"
   ]
  },
  {
   "cell_type": "code",
   "execution_count": 12,
   "metadata": {},
   "outputs": [],
   "source": [
    "total_bytes = moma.size * 8"
   ]
  },
  {
   "cell_type": "code",
   "execution_count": 13,
   "metadata": {},
   "outputs": [],
   "source": [
    "total_megabytes = total_bytes/(1024*1024)"
   ]
  },
  {
   "cell_type": "code",
   "execution_count": 14,
   "metadata": {},
   "outputs": [
    {
     "name": "stdout",
     "output_type": "stream",
     "text": [
      "Total bytes: 7464528\n",
      "Total megabytes: 7.1187286376953125\n"
     ]
    }
   ],
   "source": [
    "print('Total bytes:', total_bytes)\n",
    "print('Total megabytes:', total_megabytes)"
   ]
  },
  {
   "cell_type": "code",
   "execution_count": 15,
   "metadata": {},
   "outputs": [
    {
     "name": "stdout",
     "output_type": "stream",
     "text": [
      "<class 'pandas.core.frame.DataFrame'>\n",
      "RangeIndex: 34558 entries, 0 to 34557\n",
      "Data columns (total 27 columns):\n",
      "ExhibitionID              34129 non-null float64\n",
      "ExhibitionNumber          34558 non-null object\n",
      "ExhibitionTitle           34558 non-null object\n",
      "ExhibitionCitationDate    34557 non-null object\n",
      "ExhibitionBeginDate       34558 non-null object\n",
      "ExhibitionEndDate         33354 non-null object\n",
      "ExhibitionSortOrder       34558 non-null float64\n",
      "ExhibitionURL             34125 non-null object\n",
      "ExhibitionRole            34424 non-null object\n",
      "ConstituentID             34044 non-null float64\n",
      "ConstituentType           34424 non-null object\n",
      "DisplayName               34424 non-null object\n",
      "AlphaSort                 34424 non-null object\n",
      "FirstName                 31499 non-null object\n",
      "MiddleName                3804 non-null object\n",
      "LastName                  31998 non-null object\n",
      "Suffix                    157 non-null object\n",
      "Institution               2458 non-null object\n",
      "Nationality               26072 non-null object\n",
      "ConstituentBeginDate      25290 non-null float64\n",
      "ConstituentEndDate        19819 non-null float64\n",
      "ArtistBio                 26089 non-null object\n",
      "Gender                    25796 non-null object\n",
      "VIAFID                    26996 non-null float64\n",
      "WikidataID                22241 non-null object\n",
      "ULANID                    21688 non-null float64\n",
      "ConstituentURL            34044 non-null object\n",
      "dtypes: float64(7), object(20)\n",
      "memory usage: 45.6 MB\n"
     ]
    }
   ],
   "source": [
    "moma.info(memory_usage='deep') #realno pomnilnik #38MB samo stringi, ostalo dataframe"
   ]
  },
  {
   "cell_type": "code",
   "execution_count": 17,
   "metadata": {},
   "outputs": [
    {
     "data": {
      "text/plain": [
       "Index                          80\n",
       "ExhibitionID               276464\n",
       "ExhibitionNumber          2085850\n",
       "ExhibitionTitle           3333695\n",
       "ExhibitionCitationDate    3577728\n",
       "ExhibitionBeginDate       2281851\n",
       "ExhibitionEndDate         2234872\n",
       "ExhibitionSortOrder        276464\n",
       "ExhibitionURL             3494606\n",
       "ExhibitionRole            2179383\n",
       "ConstituentID              276464\n",
       "ConstituentType           2313112\n",
       "DisplayName               2548428\n",
       "AlphaSort                 2534329\n",
       "FirstName                 2104929\n",
       "MiddleName                1218953\n",
       "LastName                  2162941\n",
       "Suffix                    1110349\n",
       "Institution               1221368\n",
       "Nationality               1949664\n",
       "ConstituentBeginDate       276464\n",
       "ConstituentEndDate         276464\n",
       "ArtistBio                 3183300\n",
       "Gender                    1858994\n",
       "VIAFID                     276464\n",
       "WikidataID                1821293\n",
       "ULANID                     276464\n",
       "ConstituentURL            2677922\n",
       "dtype: int64"
      ]
     },
     "execution_count": 17,
     "metadata": {},
     "output_type": "execute_result"
    }
   ],
   "source": [
    "moma.memory_usage(deep=True)"
   ]
  },
  {
   "cell_type": "code",
   "execution_count": null,
   "metadata": {},
   "outputs": [],
   "source": [
    "moma.memory_usage(deep=True, index=False)"
   ]
  },
  {
   "cell_type": "markdown",
   "metadata": {},
   "source": [
    "> **index** : *bool, default True* --> \n",
    "Specifies whether to include the memory usage of the DataFrame’s index in returned Series. If index=True, the memory usage of the index is the first item in the output."
   ]
  },
  {
   "cell_type": "code",
   "execution_count": 18,
   "metadata": {},
   "outputs": [
    {
     "data": {
      "text/plain": [
       "ExhibitionID               276464\n",
       "ExhibitionNumber          2085850\n",
       "ExhibitionTitle           3333695\n",
       "ExhibitionCitationDate    3577728\n",
       "ExhibitionBeginDate       2281851\n",
       "ExhibitionEndDate         2234872\n",
       "ExhibitionSortOrder        276464\n",
       "ExhibitionURL             3494606\n",
       "ExhibitionRole            2179383\n",
       "ConstituentID              276464\n",
       "ConstituentType           2313112\n",
       "DisplayName               2548428\n",
       "AlphaSort                 2534329\n",
       "FirstName                 2104929\n",
       "MiddleName                1218953\n",
       "LastName                  2162941\n",
       "Suffix                    1110349\n",
       "Institution               1221368\n",
       "Nationality               1949664\n",
       "ConstituentBeginDate       276464\n",
       "ConstituentEndDate         276464\n",
       "ArtistBio                 3183300\n",
       "Gender                    1858994\n",
       "VIAFID                     276464\n",
       "WikidataID                1821293\n",
       "ULANID                     276464\n",
       "ConstituentURL            2677922\n",
       "dtype: int64"
      ]
     },
     "execution_count": 18,
     "metadata": {},
     "output_type": "execute_result"
    }
   ],
   "source": [
    "moma.memory_usage(deep=True, index=False)"
   ]
  },
  {
   "cell_type": "code",
   "execution_count": 19,
   "metadata": {},
   "outputs": [],
   "source": [
    "def get_memory_usage_by_type(df, types=[]):\n",
    "    if not types:\n",
    "        types = []\n",
    "        for column in df.columns:\n",
    "            if hasattr(df[column], 'cat'):\n",
    "                types.append('category')\n",
    "            else:\n",
    "                types.append(df[column].dtype)\n",
    "        types = list(set(types))\n",
    "    total = 0\n",
    "    for dtype in types:\n",
    "        selected_dtype = df.select_dtypes(include=[dtype])\n",
    "        num_of_columns = len(selected_dtype.columns)\n",
    "        mean_usage_b = selected_dtype.memory_usage(deep=True, index=False).mean()\n",
    "        mean_usage_mb = mean_usage_b / 1024 ** 2\n",
    "        sum_usage_b = selected_dtype.memory_usage(deep=True, index=False).sum()\n",
    "        sum_usage_mb = sum_usage_b / 1024 ** 2\n",
    "        print(f\"Average memory usage: {round(mean_usage_mb, 3)} MB and total: {round(sum_usage_mb, 3)} MB for {num_of_columns}x {dtype} columns.\")\n",
    "        total += sum_usage_mb\n",
    "        \n",
    "    print('----------------------')\n",
    "    print(f'Total memory usage: {round(total, 3)} MB')"
   ]
  },
  {
   "cell_type": "code",
   "execution_count": 20,
   "metadata": {},
   "outputs": [
    {
     "name": "stdout",
     "output_type": "stream",
     "text": [
      "Average memory usage: 0.264 MB and total: 1.846 MB for 7x float64 columns.\n",
      "Average memory usage: 2.188 MB and total: 43.768 MB for 20x object columns.\n",
      "----------------------\n",
      "Total memory usage: 45.613 MB\n"
     ]
    }
   ],
   "source": [
    "get_memory_usage_by_type(moma)"
   ]
  },
  {
   "cell_type": "markdown",
   "metadata": {},
   "source": [
    "### Optimizing Numeric Columns with Subtypes"
   ]
  },
  {
   "cell_type": "markdown",
   "metadata": {},
   "source": [
    "<table>\n",
    "<thead>\n",
    "<tr>\n",
    "<th>memory usage</th>\n",
    "<th>float</th>\n",
    "<th>int</th>\n",
    "<th>uint</th>\n",
    "<th>datetime</th>\n",
    "<th>bool</th>\n",
    "<th>object</th>\n",
    "</tr>\n",
    "</thead>\n",
    "<tbody>\n",
    "<tr>\n",
    "<td>1 bytes</td>\n",
    "<td></td>\n",
    "<td>int8</td>\n",
    "<td>uint8</td>\n",
    "<td></td>\n",
    "<td>bool</td>\n",
    "<td></td>\n",
    "</tr>\n",
    "<tr>\n",
    "<td>2 bytes</td>\n",
    "<td>float16</td>\n",
    "<td>int16</td>\n",
    "<td>uint16</td>\n",
    "<td></td>\n",
    "<td></td>\n",
    "<td></td>\n",
    "</tr>\n",
    "<tr>\n",
    "<td>4 bytes</td>\n",
    "<td>float32</td>\n",
    "<td>int32</td>\n",
    "<td>uint32</td>\n",
    "<td></td>\n",
    "<td></td>\n",
    "<td></td>\n",
    "</tr>\n",
    "<tr>\n",
    "<td>8 bytes</td>\n",
    "<td>float64</td>\n",
    "<td>int64</td>\n",
    "<td>uint64</td>\n",
    "<td>datetime64</td>\n",
    "<td></td>\n",
    "<td></td>\n",
    "</tr>\n",
    "<tr>\n",
    "<td>variable</td>\n",
    "<td></td>\n",
    "<td></td>\n",
    "<td></td>\n",
    "<td></td>\n",
    "<td></td>\n",
    "<td>object</td>\n",
    "</tr>\n",
    "</tbody>\n",
    "</table>"
   ]
  },
  {
   "cell_type": "code",
   "execution_count": 22,
   "metadata": {},
   "outputs": [
    {
     "name": "stdout",
     "output_type": "stream",
     "text": [
      "Machine parameters for int8\n",
      "---------------------------------------------------------------\n",
      "min = -128\n",
      "max = 127\n",
      "---------------------------------------------------------------\n",
      "\n",
      "Machine parameters for int16\n",
      "---------------------------------------------------------------\n",
      "min = -32768\n",
      "max = 32767\n",
      "---------------------------------------------------------------\n",
      "\n",
      "Machine parameters for int32\n",
      "---------------------------------------------------------------\n",
      "min = -2147483648\n",
      "max = 2147483647\n",
      "---------------------------------------------------------------\n",
      "\n",
      "Machine parameters for int64\n",
      "---------------------------------------------------------------\n",
      "min = -9223372036854775808\n",
      "max = 9223372036854775807\n",
      "---------------------------------------------------------------\n",
      "\n"
     ]
    }
   ],
   "source": [
    "int_types = [\"int8\", \"int16\", \"int32\", \"int64\"]\n",
    "\n",
    "for it in int_types:\n",
    "    print(np.iinfo(it))\n"
   ]
  },
  {
   "cell_type": "code",
   "execution_count": 23,
   "metadata": {},
   "outputs": [
    {
     "data": {
      "text/plain": [
       "-128"
      ]
     },
     "execution_count": 23,
     "metadata": {},
     "output_type": "execute_result"
    }
   ],
   "source": [
    "np.iinfo('int8').min"
   ]
  },
  {
   "cell_type": "code",
   "execution_count": 24,
   "metadata": {},
   "outputs": [
    {
     "data": {
      "text/plain": [
       "127"
      ]
     },
     "execution_count": 24,
     "metadata": {},
     "output_type": "execute_result"
    }
   ],
   "source": [
    "np.iinfo('int8').max"
   ]
  },
  {
   "cell_type": "markdown",
   "metadata": {},
   "source": [
    "#### Integer Columns"
   ]
  },
  {
   "cell_type": "code",
   "execution_count": 25,
   "metadata": {},
   "outputs": [
    {
     "data": {
      "text/html": [
       "<div>\n",
       "<style scoped>\n",
       "    .dataframe tbody tr th:only-of-type {\n",
       "        vertical-align: middle;\n",
       "    }\n",
       "\n",
       "    .dataframe tbody tr th {\n",
       "        vertical-align: top;\n",
       "    }\n",
       "\n",
       "    .dataframe thead th {\n",
       "        text-align: right;\n",
       "    }\n",
       "</style>\n",
       "<table border=\"1\" class=\"dataframe\">\n",
       "  <thead>\n",
       "    <tr style=\"text-align: right;\">\n",
       "      <th></th>\n",
       "      <th>ExhibitionID</th>\n",
       "      <th>ExhibitionNumber</th>\n",
       "      <th>ExhibitionTitle</th>\n",
       "      <th>ExhibitionCitationDate</th>\n",
       "      <th>ExhibitionBeginDate</th>\n",
       "      <th>ExhibitionEndDate</th>\n",
       "      <th>ExhibitionSortOrder</th>\n",
       "      <th>ExhibitionURL</th>\n",
       "      <th>ExhibitionRole</th>\n",
       "      <th>ConstituentID</th>\n",
       "      <th>...</th>\n",
       "      <th>Institution</th>\n",
       "      <th>Nationality</th>\n",
       "      <th>ConstituentBeginDate</th>\n",
       "      <th>ConstituentEndDate</th>\n",
       "      <th>ArtistBio</th>\n",
       "      <th>Gender</th>\n",
       "      <th>VIAFID</th>\n",
       "      <th>WikidataID</th>\n",
       "      <th>ULANID</th>\n",
       "      <th>ConstituentURL</th>\n",
       "    </tr>\n",
       "  </thead>\n",
       "  <tbody>\n",
       "    <tr>\n",
       "      <th>0</th>\n",
       "      <td>2557.0</td>\n",
       "      <td>1</td>\n",
       "      <td>Cézanne, Gauguin, Seurat, Van Gogh</td>\n",
       "      <td>[MoMA Exh. #1, November 7-December 7, 1929]</td>\n",
       "      <td>11/7/1929</td>\n",
       "      <td>12/7/1929</td>\n",
       "      <td>1.0</td>\n",
       "      <td>http://www.moma.org/calendar/exhibitions/1767</td>\n",
       "      <td>Director</td>\n",
       "      <td>9168.0</td>\n",
       "      <td>...</td>\n",
       "      <td>NaN</td>\n",
       "      <td>American</td>\n",
       "      <td>1902.0</td>\n",
       "      <td>1981.0</td>\n",
       "      <td>American, 1902–1981</td>\n",
       "      <td>Male</td>\n",
       "      <td>109252853.0</td>\n",
       "      <td>Q711362</td>\n",
       "      <td>500241556.0</td>\n",
       "      <td>moma.org/artists/9168</td>\n",
       "    </tr>\n",
       "    <tr>\n",
       "      <th>1</th>\n",
       "      <td>2557.0</td>\n",
       "      <td>1</td>\n",
       "      <td>Cézanne, Gauguin, Seurat, Van Gogh</td>\n",
       "      <td>[MoMA Exh. #1, November 7-December 7, 1929]</td>\n",
       "      <td>11/7/1929</td>\n",
       "      <td>12/7/1929</td>\n",
       "      <td>1.0</td>\n",
       "      <td>http://www.moma.org/calendar/exhibitions/1767</td>\n",
       "      <td>Artist</td>\n",
       "      <td>1053.0</td>\n",
       "      <td>...</td>\n",
       "      <td>NaN</td>\n",
       "      <td>French</td>\n",
       "      <td>1839.0</td>\n",
       "      <td>1906.0</td>\n",
       "      <td>French, 1839–1906</td>\n",
       "      <td>Male</td>\n",
       "      <td>39374836.0</td>\n",
       "      <td>Q35548</td>\n",
       "      <td>500004793.0</td>\n",
       "      <td>moma.org/artists/1053</td>\n",
       "    </tr>\n",
       "    <tr>\n",
       "      <th>2</th>\n",
       "      <td>2557.0</td>\n",
       "      <td>1</td>\n",
       "      <td>Cézanne, Gauguin, Seurat, Van Gogh</td>\n",
       "      <td>[MoMA Exh. #1, November 7-December 7, 1929]</td>\n",
       "      <td>11/7/1929</td>\n",
       "      <td>12/7/1929</td>\n",
       "      <td>1.0</td>\n",
       "      <td>http://www.moma.org/calendar/exhibitions/1767</td>\n",
       "      <td>Artist</td>\n",
       "      <td>2098.0</td>\n",
       "      <td>...</td>\n",
       "      <td>NaN</td>\n",
       "      <td>French</td>\n",
       "      <td>1848.0</td>\n",
       "      <td>1903.0</td>\n",
       "      <td>French, 1848–1903</td>\n",
       "      <td>Male</td>\n",
       "      <td>27064953.0</td>\n",
       "      <td>Q37693</td>\n",
       "      <td>500011421.0</td>\n",
       "      <td>moma.org/artists/2098</td>\n",
       "    </tr>\n",
       "    <tr>\n",
       "      <th>3</th>\n",
       "      <td>2557.0</td>\n",
       "      <td>1</td>\n",
       "      <td>Cézanne, Gauguin, Seurat, Van Gogh</td>\n",
       "      <td>[MoMA Exh. #1, November 7-December 7, 1929]</td>\n",
       "      <td>11/7/1929</td>\n",
       "      <td>12/7/1929</td>\n",
       "      <td>1.0</td>\n",
       "      <td>http://www.moma.org/calendar/exhibitions/1767</td>\n",
       "      <td>Artist</td>\n",
       "      <td>2206.0</td>\n",
       "      <td>...</td>\n",
       "      <td>NaN</td>\n",
       "      <td>Dutch</td>\n",
       "      <td>1853.0</td>\n",
       "      <td>1890.0</td>\n",
       "      <td>Dutch, 1853–1890</td>\n",
       "      <td>Male</td>\n",
       "      <td>9854560.0</td>\n",
       "      <td>Q5582</td>\n",
       "      <td>500115588.0</td>\n",
       "      <td>moma.org/artists/2206</td>\n",
       "    </tr>\n",
       "    <tr>\n",
       "      <th>4</th>\n",
       "      <td>2557.0</td>\n",
       "      <td>1</td>\n",
       "      <td>Cézanne, Gauguin, Seurat, Van Gogh</td>\n",
       "      <td>[MoMA Exh. #1, November 7-December 7, 1929]</td>\n",
       "      <td>11/7/1929</td>\n",
       "      <td>12/7/1929</td>\n",
       "      <td>1.0</td>\n",
       "      <td>http://www.moma.org/calendar/exhibitions/1767</td>\n",
       "      <td>Artist</td>\n",
       "      <td>5358.0</td>\n",
       "      <td>...</td>\n",
       "      <td>NaN</td>\n",
       "      <td>French</td>\n",
       "      <td>1859.0</td>\n",
       "      <td>1891.0</td>\n",
       "      <td>French, 1859–1891</td>\n",
       "      <td>Male</td>\n",
       "      <td>24608076.0</td>\n",
       "      <td>Q34013</td>\n",
       "      <td>500008873.0</td>\n",
       "      <td>moma.org/artists/5358</td>\n",
       "    </tr>\n",
       "  </tbody>\n",
       "</table>\n",
       "<p>5 rows × 27 columns</p>\n",
       "</div>"
      ],
      "text/plain": [
       "   ExhibitionID ExhibitionNumber                     ExhibitionTitle  \\\n",
       "0        2557.0                1  Cézanne, Gauguin, Seurat, Van Gogh   \n",
       "1        2557.0                1  Cézanne, Gauguin, Seurat, Van Gogh   \n",
       "2        2557.0                1  Cézanne, Gauguin, Seurat, Van Gogh   \n",
       "3        2557.0                1  Cézanne, Gauguin, Seurat, Van Gogh   \n",
       "4        2557.0                1  Cézanne, Gauguin, Seurat, Van Gogh   \n",
       "\n",
       "                        ExhibitionCitationDate ExhibitionBeginDate  \\\n",
       "0  [MoMA Exh. #1, November 7-December 7, 1929]           11/7/1929   \n",
       "1  [MoMA Exh. #1, November 7-December 7, 1929]           11/7/1929   \n",
       "2  [MoMA Exh. #1, November 7-December 7, 1929]           11/7/1929   \n",
       "3  [MoMA Exh. #1, November 7-December 7, 1929]           11/7/1929   \n",
       "4  [MoMA Exh. #1, November 7-December 7, 1929]           11/7/1929   \n",
       "\n",
       "  ExhibitionEndDate  ExhibitionSortOrder  \\\n",
       "0         12/7/1929                  1.0   \n",
       "1         12/7/1929                  1.0   \n",
       "2         12/7/1929                  1.0   \n",
       "3         12/7/1929                  1.0   \n",
       "4         12/7/1929                  1.0   \n",
       "\n",
       "                                   ExhibitionURL ExhibitionRole  \\\n",
       "0  http://www.moma.org/calendar/exhibitions/1767       Director   \n",
       "1  http://www.moma.org/calendar/exhibitions/1767         Artist   \n",
       "2  http://www.moma.org/calendar/exhibitions/1767         Artist   \n",
       "3  http://www.moma.org/calendar/exhibitions/1767         Artist   \n",
       "4  http://www.moma.org/calendar/exhibitions/1767         Artist   \n",
       "\n",
       "   ConstituentID  ... Institution Nationality ConstituentBeginDate  \\\n",
       "0         9168.0  ...         NaN    American               1902.0   \n",
       "1         1053.0  ...         NaN      French               1839.0   \n",
       "2         2098.0  ...         NaN      French               1848.0   \n",
       "3         2206.0  ...         NaN       Dutch               1853.0   \n",
       "4         5358.0  ...         NaN      French               1859.0   \n",
       "\n",
       "  ConstituentEndDate            ArtistBio Gender       VIAFID WikidataID  \\\n",
       "0             1981.0  American, 1902–1981   Male  109252853.0    Q711362   \n",
       "1             1906.0    French, 1839–1906   Male   39374836.0     Q35548   \n",
       "2             1903.0    French, 1848–1903   Male   27064953.0     Q37693   \n",
       "3             1890.0     Dutch, 1853–1890   Male    9854560.0      Q5582   \n",
       "4             1891.0    French, 1859–1891   Male   24608076.0     Q34013   \n",
       "\n",
       "        ULANID         ConstituentURL  \n",
       "0  500241556.0  moma.org/artists/9168  \n",
       "1  500004793.0  moma.org/artists/1053  \n",
       "2  500011421.0  moma.org/artists/2098  \n",
       "3  500115588.0  moma.org/artists/2206  \n",
       "4  500008873.0  moma.org/artists/5358  \n",
       "\n",
       "[5 rows x 27 columns]"
      ]
     },
     "execution_count": 25,
     "metadata": {},
     "output_type": "execute_result"
    }
   ],
   "source": [
    "moma.head()"
   ]
  },
  {
   "cell_type": "code",
   "execution_count": 26,
   "metadata": {},
   "outputs": [
    {
     "ename": "ValueError",
     "evalue": "Cannot convert non-finite values (NA or inf) to integer",
     "output_type": "error",
     "traceback": [
      "\u001b[0;31m---------------------------------------------------------------------------\u001b[0m",
      "\u001b[0;31mValueError\u001b[0m                                Traceback (most recent call last)",
      "\u001b[0;32m<ipython-input-26-f7e21ea6a099>\u001b[0m in \u001b[0;36m<module>\u001b[0;34m\u001b[0m\n\u001b[0;32m----> 1\u001b[0;31m \u001b[0mmoma\u001b[0m\u001b[0;34m[\u001b[0m\u001b[0;34m'ConstituentID'\u001b[0m\u001b[0;34m]\u001b[0m\u001b[0;34m.\u001b[0m\u001b[0mastype\u001b[0m\u001b[0;34m(\u001b[0m\u001b[0;34m'int'\u001b[0m\u001b[0;34m)\u001b[0m\u001b[0;34m\u001b[0m\u001b[0;34m\u001b[0m\u001b[0m\n\u001b[0m",
      "\u001b[0;32m~/anaconda3/lib/python3.7/site-packages/pandas/core/generic.py\u001b[0m in \u001b[0;36mastype\u001b[0;34m(self, dtype, copy, errors, **kwargs)\u001b[0m\n\u001b[1;32m   5689\u001b[0m             \u001b[0;31m# else, only a single dtype is given\u001b[0m\u001b[0;34m\u001b[0m\u001b[0;34m\u001b[0m\u001b[0;34m\u001b[0m\u001b[0m\n\u001b[1;32m   5690\u001b[0m             new_data = self._data.astype(dtype=dtype, copy=copy, errors=errors,\n\u001b[0;32m-> 5691\u001b[0;31m                                          **kwargs)\n\u001b[0m\u001b[1;32m   5692\u001b[0m             \u001b[0;32mreturn\u001b[0m \u001b[0mself\u001b[0m\u001b[0;34m.\u001b[0m\u001b[0m_constructor\u001b[0m\u001b[0;34m(\u001b[0m\u001b[0mnew_data\u001b[0m\u001b[0;34m)\u001b[0m\u001b[0;34m.\u001b[0m\u001b[0m__finalize__\u001b[0m\u001b[0;34m(\u001b[0m\u001b[0mself\u001b[0m\u001b[0;34m)\u001b[0m\u001b[0;34m\u001b[0m\u001b[0;34m\u001b[0m\u001b[0m\n\u001b[1;32m   5693\u001b[0m \u001b[0;34m\u001b[0m\u001b[0m\n",
      "\u001b[0;32m~/anaconda3/lib/python3.7/site-packages/pandas/core/internals/managers.py\u001b[0m in \u001b[0;36mastype\u001b[0;34m(self, dtype, **kwargs)\u001b[0m\n\u001b[1;32m    529\u001b[0m \u001b[0;34m\u001b[0m\u001b[0m\n\u001b[1;32m    530\u001b[0m     \u001b[0;32mdef\u001b[0m \u001b[0mastype\u001b[0m\u001b[0;34m(\u001b[0m\u001b[0mself\u001b[0m\u001b[0;34m,\u001b[0m \u001b[0mdtype\u001b[0m\u001b[0;34m,\u001b[0m \u001b[0;34m**\u001b[0m\u001b[0mkwargs\u001b[0m\u001b[0;34m)\u001b[0m\u001b[0;34m:\u001b[0m\u001b[0;34m\u001b[0m\u001b[0;34m\u001b[0m\u001b[0m\n\u001b[0;32m--> 531\u001b[0;31m         \u001b[0;32mreturn\u001b[0m \u001b[0mself\u001b[0m\u001b[0;34m.\u001b[0m\u001b[0mapply\u001b[0m\u001b[0;34m(\u001b[0m\u001b[0;34m'astype'\u001b[0m\u001b[0;34m,\u001b[0m \u001b[0mdtype\u001b[0m\u001b[0;34m=\u001b[0m\u001b[0mdtype\u001b[0m\u001b[0;34m,\u001b[0m \u001b[0;34m**\u001b[0m\u001b[0mkwargs\u001b[0m\u001b[0;34m)\u001b[0m\u001b[0;34m\u001b[0m\u001b[0;34m\u001b[0m\u001b[0m\n\u001b[0m\u001b[1;32m    532\u001b[0m \u001b[0;34m\u001b[0m\u001b[0m\n\u001b[1;32m    533\u001b[0m     \u001b[0;32mdef\u001b[0m \u001b[0mconvert\u001b[0m\u001b[0;34m(\u001b[0m\u001b[0mself\u001b[0m\u001b[0;34m,\u001b[0m \u001b[0;34m**\u001b[0m\u001b[0mkwargs\u001b[0m\u001b[0;34m)\u001b[0m\u001b[0;34m:\u001b[0m\u001b[0;34m\u001b[0m\u001b[0;34m\u001b[0m\u001b[0m\n",
      "\u001b[0;32m~/anaconda3/lib/python3.7/site-packages/pandas/core/internals/managers.py\u001b[0m in \u001b[0;36mapply\u001b[0;34m(self, f, axes, filter, do_integrity_check, consolidate, **kwargs)\u001b[0m\n\u001b[1;32m    393\u001b[0m                                             copy=align_copy)\n\u001b[1;32m    394\u001b[0m \u001b[0;34m\u001b[0m\u001b[0m\n\u001b[0;32m--> 395\u001b[0;31m             \u001b[0mapplied\u001b[0m \u001b[0;34m=\u001b[0m \u001b[0mgetattr\u001b[0m\u001b[0;34m(\u001b[0m\u001b[0mb\u001b[0m\u001b[0;34m,\u001b[0m \u001b[0mf\u001b[0m\u001b[0;34m)\u001b[0m\u001b[0;34m(\u001b[0m\u001b[0;34m**\u001b[0m\u001b[0mkwargs\u001b[0m\u001b[0;34m)\u001b[0m\u001b[0;34m\u001b[0m\u001b[0;34m\u001b[0m\u001b[0m\n\u001b[0m\u001b[1;32m    396\u001b[0m             \u001b[0mresult_blocks\u001b[0m \u001b[0;34m=\u001b[0m \u001b[0m_extend_blocks\u001b[0m\u001b[0;34m(\u001b[0m\u001b[0mapplied\u001b[0m\u001b[0;34m,\u001b[0m \u001b[0mresult_blocks\u001b[0m\u001b[0;34m)\u001b[0m\u001b[0;34m\u001b[0m\u001b[0;34m\u001b[0m\u001b[0m\n\u001b[1;32m    397\u001b[0m \u001b[0;34m\u001b[0m\u001b[0m\n",
      "\u001b[0;32m~/anaconda3/lib/python3.7/site-packages/pandas/core/internals/blocks.py\u001b[0m in \u001b[0;36mastype\u001b[0;34m(self, dtype, copy, errors, values, **kwargs)\u001b[0m\n\u001b[1;32m    532\u001b[0m     \u001b[0;32mdef\u001b[0m \u001b[0mastype\u001b[0m\u001b[0;34m(\u001b[0m\u001b[0mself\u001b[0m\u001b[0;34m,\u001b[0m \u001b[0mdtype\u001b[0m\u001b[0;34m,\u001b[0m \u001b[0mcopy\u001b[0m\u001b[0;34m=\u001b[0m\u001b[0;32mFalse\u001b[0m\u001b[0;34m,\u001b[0m \u001b[0merrors\u001b[0m\u001b[0;34m=\u001b[0m\u001b[0;34m'raise'\u001b[0m\u001b[0;34m,\u001b[0m \u001b[0mvalues\u001b[0m\u001b[0;34m=\u001b[0m\u001b[0;32mNone\u001b[0m\u001b[0;34m,\u001b[0m \u001b[0;34m**\u001b[0m\u001b[0mkwargs\u001b[0m\u001b[0;34m)\u001b[0m\u001b[0;34m:\u001b[0m\u001b[0;34m\u001b[0m\u001b[0;34m\u001b[0m\u001b[0m\n\u001b[1;32m    533\u001b[0m         return self._astype(dtype, copy=copy, errors=errors, values=values,\n\u001b[0;32m--> 534\u001b[0;31m                             **kwargs)\n\u001b[0m\u001b[1;32m    535\u001b[0m \u001b[0;34m\u001b[0m\u001b[0m\n\u001b[1;32m    536\u001b[0m     def _astype(self, dtype, copy=False, errors='raise', values=None,\n",
      "\u001b[0;32m~/anaconda3/lib/python3.7/site-packages/pandas/core/internals/blocks.py\u001b[0m in \u001b[0;36m_astype\u001b[0;34m(self, dtype, copy, errors, values, **kwargs)\u001b[0m\n\u001b[1;32m    631\u001b[0m \u001b[0;34m\u001b[0m\u001b[0m\n\u001b[1;32m    632\u001b[0m                     \u001b[0;31m# _astype_nansafe works fine with 1-d only\u001b[0m\u001b[0;34m\u001b[0m\u001b[0;34m\u001b[0m\u001b[0;34m\u001b[0m\u001b[0m\n\u001b[0;32m--> 633\u001b[0;31m                     \u001b[0mvalues\u001b[0m \u001b[0;34m=\u001b[0m \u001b[0mastype_nansafe\u001b[0m\u001b[0;34m(\u001b[0m\u001b[0mvalues\u001b[0m\u001b[0;34m.\u001b[0m\u001b[0mravel\u001b[0m\u001b[0;34m(\u001b[0m\u001b[0;34m)\u001b[0m\u001b[0;34m,\u001b[0m \u001b[0mdtype\u001b[0m\u001b[0;34m,\u001b[0m \u001b[0mcopy\u001b[0m\u001b[0;34m=\u001b[0m\u001b[0;32mTrue\u001b[0m\u001b[0;34m)\u001b[0m\u001b[0;34m\u001b[0m\u001b[0;34m\u001b[0m\u001b[0m\n\u001b[0m\u001b[1;32m    634\u001b[0m \u001b[0;34m\u001b[0m\u001b[0m\n\u001b[1;32m    635\u001b[0m                 \u001b[0;31m# TODO(extension)\u001b[0m\u001b[0;34m\u001b[0m\u001b[0;34m\u001b[0m\u001b[0;34m\u001b[0m\u001b[0m\n",
      "\u001b[0;32m~/anaconda3/lib/python3.7/site-packages/pandas/core/dtypes/cast.py\u001b[0m in \u001b[0;36mastype_nansafe\u001b[0;34m(arr, dtype, copy, skipna)\u001b[0m\n\u001b[1;32m    674\u001b[0m \u001b[0;34m\u001b[0m\u001b[0m\n\u001b[1;32m    675\u001b[0m         \u001b[0;32mif\u001b[0m \u001b[0;32mnot\u001b[0m \u001b[0mnp\u001b[0m\u001b[0;34m.\u001b[0m\u001b[0misfinite\u001b[0m\u001b[0;34m(\u001b[0m\u001b[0marr\u001b[0m\u001b[0;34m)\u001b[0m\u001b[0;34m.\u001b[0m\u001b[0mall\u001b[0m\u001b[0;34m(\u001b[0m\u001b[0;34m)\u001b[0m\u001b[0;34m:\u001b[0m\u001b[0;34m\u001b[0m\u001b[0;34m\u001b[0m\u001b[0m\n\u001b[0;32m--> 676\u001b[0;31m             raise ValueError('Cannot convert non-finite values (NA or inf) to '\n\u001b[0m\u001b[1;32m    677\u001b[0m                              'integer')\n\u001b[1;32m    678\u001b[0m \u001b[0;34m\u001b[0m\u001b[0m\n",
      "\u001b[0;31mValueError\u001b[0m: Cannot convert non-finite values (NA or inf) to integer"
     ]
    }
   ],
   "source": [
    "moma['ConstituentID'].astype('int')  #ne gre zaradi manjkajočih vrednosti, kar je float"
   ]
  },
  {
   "cell_type": "code",
   "execution_count": 28,
   "metadata": {},
   "outputs": [
    {
     "data": {
      "text/plain": [
       "ExhibitionID              429\n",
       "ExhibitionSortOrder         0\n",
       "ConstituentID             514\n",
       "ConstituentBeginDate     9268\n",
       "ConstituentEndDate      14739\n",
       "VIAFID                   7562\n",
       "ULANID                  12870\n",
       "dtype: int64"
      ]
     },
     "execution_count": 28,
     "metadata": {},
     "output_type": "execute_result"
    }
   ],
   "source": [
    "moma.select_dtypes(include=['float']).isnull().sum() #drugi stolpec lahko damo v int, ker nima manjkajočih vr."
   ]
  },
  {
   "cell_type": "code",
   "execution_count": 29,
   "metadata": {},
   "outputs": [
    {
     "data": {
      "text/html": [
       "<div>\n",
       "<style scoped>\n",
       "    .dataframe tbody tr th:only-of-type {\n",
       "        vertical-align: middle;\n",
       "    }\n",
       "\n",
       "    .dataframe tbody tr th {\n",
       "        vertical-align: top;\n",
       "    }\n",
       "\n",
       "    .dataframe thead th {\n",
       "        text-align: right;\n",
       "    }\n",
       "</style>\n",
       "<table border=\"1\" class=\"dataframe\">\n",
       "  <thead>\n",
       "    <tr style=\"text-align: right;\">\n",
       "      <th></th>\n",
       "      <th>ExhibitionID</th>\n",
       "      <th>ExhibitionSortOrder</th>\n",
       "      <th>ConstituentID</th>\n",
       "      <th>ConstituentBeginDate</th>\n",
       "      <th>ConstituentEndDate</th>\n",
       "      <th>VIAFID</th>\n",
       "      <th>ULANID</th>\n",
       "    </tr>\n",
       "  </thead>\n",
       "  <tbody>\n",
       "    <tr>\n",
       "      <th>0</th>\n",
       "      <td>2557.0</td>\n",
       "      <td>1.0</td>\n",
       "      <td>9168.0</td>\n",
       "      <td>1902.0</td>\n",
       "      <td>1981.0</td>\n",
       "      <td>109252853.0</td>\n",
       "      <td>500241556.0</td>\n",
       "    </tr>\n",
       "    <tr>\n",
       "      <th>1</th>\n",
       "      <td>2557.0</td>\n",
       "      <td>1.0</td>\n",
       "      <td>1053.0</td>\n",
       "      <td>1839.0</td>\n",
       "      <td>1906.0</td>\n",
       "      <td>39374836.0</td>\n",
       "      <td>500004793.0</td>\n",
       "    </tr>\n",
       "    <tr>\n",
       "      <th>2</th>\n",
       "      <td>2557.0</td>\n",
       "      <td>1.0</td>\n",
       "      <td>2098.0</td>\n",
       "      <td>1848.0</td>\n",
       "      <td>1903.0</td>\n",
       "      <td>27064953.0</td>\n",
       "      <td>500011421.0</td>\n",
       "    </tr>\n",
       "    <tr>\n",
       "      <th>3</th>\n",
       "      <td>2557.0</td>\n",
       "      <td>1.0</td>\n",
       "      <td>2206.0</td>\n",
       "      <td>1853.0</td>\n",
       "      <td>1890.0</td>\n",
       "      <td>9854560.0</td>\n",
       "      <td>500115588.0</td>\n",
       "    </tr>\n",
       "    <tr>\n",
       "      <th>4</th>\n",
       "      <td>2557.0</td>\n",
       "      <td>1.0</td>\n",
       "      <td>5358.0</td>\n",
       "      <td>1859.0</td>\n",
       "      <td>1891.0</td>\n",
       "      <td>24608076.0</td>\n",
       "      <td>500008873.0</td>\n",
       "    </tr>\n",
       "  </tbody>\n",
       "</table>\n",
       "</div>"
      ],
      "text/plain": [
       "   ExhibitionID  ExhibitionSortOrder  ConstituentID  ConstituentBeginDate  \\\n",
       "0        2557.0                  1.0         9168.0                1902.0   \n",
       "1        2557.0                  1.0         1053.0                1839.0   \n",
       "2        2557.0                  1.0         2098.0                1848.0   \n",
       "3        2557.0                  1.0         2206.0                1853.0   \n",
       "4        2557.0                  1.0         5358.0                1859.0   \n",
       "\n",
       "   ConstituentEndDate       VIAFID       ULANID  \n",
       "0              1981.0  109252853.0  500241556.0  \n",
       "1              1906.0   39374836.0  500004793.0  \n",
       "2              1903.0   27064953.0  500011421.0  \n",
       "3              1890.0    9854560.0  500115588.0  \n",
       "4              1891.0   24608076.0  500008873.0  "
      ]
     },
     "execution_count": 29,
     "metadata": {},
     "output_type": "execute_result"
    }
   ],
   "source": [
    "moma = pd.read_csv(\"data/MoMAExhibitions1929to1989.csv\")\n",
    "moma.select_dtypes(include=['float']).head()"
   ]
  },
  {
   "cell_type": "code",
   "execution_count": 30,
   "metadata": {},
   "outputs": [
    {
     "name": "stdout",
     "output_type": "stream",
     "text": [
      "Average memory usage: 0.264 MB and total: 1.846 MB for 7x float64 columns.\n",
      "Average memory usage: 2.188 MB and total: 43.768 MB for 20x object columns.\n",
      "----------------------\n",
      "Total memory usage: 45.613 MB\n"
     ]
    }
   ],
   "source": [
    "get_memory_usage_by_type(moma)"
   ]
  },
  {
   "cell_type": "code",
   "execution_count": 31,
   "metadata": {},
   "outputs": [],
   "source": [
    "# Function to convert to best integer subtype\n",
    "def convert_col_to_best_int_subtype(df, columns=[]):\n",
    "    for column in columns:\n",
    "        col_max = df[column].max()\n",
    "        col_min = df[column].min()\n",
    "        \n",
    "        if col_max < np.iinfo('int8').max and col_min > np.iinfo('int8').min:\n",
    "            df[column] = df[column].astype('int8')\n",
    "        elif col_max <  np.iinfo(\"int16\").max and col_min > np.iinfo(\"int16\").min:\n",
    "            df[column] = df[column].astype(\"int16\")\n",
    "        elif col_max <  np.iinfo(\"int32\").max and col_min > np.iinfo(\"int32\").min:\n",
    "            df[column] = df[column].astype(\"int32\")\n",
    "        elif col_max <  np.iinfo(\"int64\").max and col_min > np.iinfo(\"int64\").min:\n",
    "            df[column] = df[column].astype(\"int64\")"
   ]
  },
  {
   "cell_type": "code",
   "execution_count": 32,
   "metadata": {},
   "outputs": [],
   "source": [
    "convert_col_to_best_int_subtype(moma, ['ExhibitionSortOrder'])"
   ]
  },
  {
   "cell_type": "code",
   "execution_count": 33,
   "metadata": {},
   "outputs": [
    {
     "data": {
      "text/plain": [
       "object     20\n",
       "float64     6\n",
       "int16       1\n",
       "dtype: int64"
      ]
     },
     "execution_count": 33,
     "metadata": {},
     "output_type": "execute_result"
    }
   ],
   "source": [
    "moma.dtypes.value_counts()"
   ]
  },
  {
   "cell_type": "code",
   "execution_count": 34,
   "metadata": {},
   "outputs": [
    {
     "name": "stdout",
     "output_type": "stream",
     "text": [
      "Average memory usage: 0.264 MB and total: 1.582 MB for 6x float64 columns.\n",
      "Average memory usage: 0.066 MB and total: 0.066 MB for 1x int16 columns.\n",
      "Average memory usage: 2.188 MB and total: 43.768 MB for 20x object columns.\n",
      "----------------------\n",
      "Total memory usage: 45.415 MB\n"
     ]
    }
   ],
   "source": [
    "get_memory_usage_by_type(moma)"
   ]
  },
  {
   "cell_type": "markdown",
   "metadata": {},
   "source": [
    "#### Float Columns"
   ]
  },
  {
   "cell_type": "code",
   "execution_count": 35,
   "metadata": {},
   "outputs": [],
   "source": [
    "value_bytes = len(moma) * 2 + 80"
   ]
  },
  {
   "cell_type": "code",
   "execution_count": 37,
   "metadata": {},
   "outputs": [
    {
     "data": {
      "text/plain": [
       "True"
      ]
     },
     "execution_count": 37,
     "metadata": {},
     "output_type": "execute_result"
    }
   ],
   "source": [
    "value_bytes == moma['ExhibitionSortOrder'].memory_usage(deep=True)"
   ]
  },
  {
   "cell_type": "code",
   "execution_count": 38,
   "metadata": {},
   "outputs": [
    {
     "data": {
      "text/plain": [
       "dtype('int64')"
      ]
     },
     "execution_count": 38,
     "metadata": {},
     "output_type": "execute_result"
    }
   ],
   "source": [
    "# Reset the dataframe to the original CSV\n",
    "moma = pd.read_csv(\"data/MoMAExhibitions1929to1989.csv\")\n",
    "\n",
    "moma['ExhibitionSortOrder'] = moma['ExhibitionSortOrder'].astype('int')\n",
    "moma['ExhibitionSortOrder'].dtype"
   ]
  },
  {
   "cell_type": "code",
   "execution_count": 39,
   "metadata": {},
   "outputs": [
    {
     "data": {
      "text/plain": [
       "dtype('int16')"
      ]
     },
     "execution_count": 39,
     "metadata": {},
     "output_type": "execute_result"
    }
   ],
   "source": [
    "# Reset the dataframe to the original CSV\n",
    "moma = pd.read_csv(\"data/MoMAExhibitions1929to1989.csv\")\n",
    "\n",
    "moma['ExhibitionSortOrder'] = moma['ExhibitionSortOrder'].astype('int')\n",
    "moma['ExhibitionSortOrder'] = pd.to_numeric(moma['ExhibitionSortOrder'], downcast='integer')\n",
    "\n",
    "\n",
    "moma['ExhibitionSortOrder'].dtype"
   ]
  },
  {
   "cell_type": "code",
   "execution_count": 40,
   "metadata": {},
   "outputs": [
    {
     "name": "stdout",
     "output_type": "stream",
     "text": [
      "Average memory usage: 0.264 MB and total: 1.846 MB for 7x float64 columns.\n",
      "Average memory usage: 2.188 MB and total: 43.768 MB for 20x object columns.\n",
      "----------------------\n",
      "Total memory usage: 45.613 MB\n"
     ]
    }
   ],
   "source": [
    "moma = pd.read_csv(\"data/MoMAExhibitions1929to1989.csv\")\n",
    "get_memory_usage_by_type(moma) "
   ]
  },
  {
   "cell_type": "code",
   "execution_count": 43,
   "metadata": {},
   "outputs": [
    {
     "data": {
      "text/plain": [
       "dtype('float32')"
      ]
     },
     "execution_count": 43,
     "metadata": {},
     "output_type": "execute_result"
    }
   ],
   "source": [
    "# convert int columns\n",
    "convert_col_to_best_int_subtype(moma, ['ExhibitionSortOrder'])\n",
    "# convert folat columns\n",
    "float_cols = moma.select_dtypes(include=['float'])\n",
    "for col in float_cols.columns:\n",
    "    moma[col] = pd.to_numeric(moma[col], downcast='float')\n",
    "moma[col].dtype"
   ]
  },
  {
   "cell_type": "code",
   "execution_count": 44,
   "metadata": {},
   "outputs": [
    {
     "data": {
      "text/plain": [
       "object     20\n",
       "float32     6\n",
       "int16       1\n",
       "dtype: int64"
      ]
     },
     "execution_count": 44,
     "metadata": {},
     "output_type": "execute_result"
    }
   ],
   "source": [
    "moma.dtypes.value_counts()"
   ]
  },
  {
   "cell_type": "code",
   "execution_count": 45,
   "metadata": {},
   "outputs": [
    {
     "name": "stdout",
     "output_type": "stream",
     "text": [
      "Average memory usage: 0.132 MB and total: 0.791 MB for 6x float32 columns.\n",
      "Average memory usage: 0.066 MB and total: 0.066 MB for 1x int16 columns.\n",
      "Average memory usage: 2.188 MB and total: 43.768 MB for 20x object columns.\n",
      "----------------------\n",
      "Total memory usage: 44.624 MB\n"
     ]
    }
   ],
   "source": [
    "get_memory_usage_by_type(moma)"
   ]
  },
  {
   "cell_type": "markdown",
   "metadata": {},
   "source": [
    "### Converting To DateTime"
   ]
  },
  {
   "cell_type": "code",
   "execution_count": 46,
   "metadata": {},
   "outputs": [
    {
     "data": {
      "text/html": [
       "<div>\n",
       "<style scoped>\n",
       "    .dataframe tbody tr th:only-of-type {\n",
       "        vertical-align: middle;\n",
       "    }\n",
       "\n",
       "    .dataframe tbody tr th {\n",
       "        vertical-align: top;\n",
       "    }\n",
       "\n",
       "    .dataframe thead th {\n",
       "        text-align: right;\n",
       "    }\n",
       "</style>\n",
       "<table border=\"1\" class=\"dataframe\">\n",
       "  <thead>\n",
       "    <tr style=\"text-align: right;\">\n",
       "      <th></th>\n",
       "      <th>ExhibitionID</th>\n",
       "      <th>ExhibitionNumber</th>\n",
       "      <th>ExhibitionTitle</th>\n",
       "      <th>ExhibitionCitationDate</th>\n",
       "      <th>ExhibitionBeginDate</th>\n",
       "      <th>ExhibitionEndDate</th>\n",
       "      <th>ExhibitionSortOrder</th>\n",
       "      <th>ExhibitionURL</th>\n",
       "      <th>ExhibitionRole</th>\n",
       "      <th>ConstituentID</th>\n",
       "      <th>...</th>\n",
       "      <th>Institution</th>\n",
       "      <th>Nationality</th>\n",
       "      <th>ConstituentBeginDate</th>\n",
       "      <th>ConstituentEndDate</th>\n",
       "      <th>ArtistBio</th>\n",
       "      <th>Gender</th>\n",
       "      <th>VIAFID</th>\n",
       "      <th>WikidataID</th>\n",
       "      <th>ULANID</th>\n",
       "      <th>ConstituentURL</th>\n",
       "    </tr>\n",
       "  </thead>\n",
       "  <tbody>\n",
       "    <tr>\n",
       "      <th>0</th>\n",
       "      <td>2557.0</td>\n",
       "      <td>1</td>\n",
       "      <td>Cézanne, Gauguin, Seurat, Van Gogh</td>\n",
       "      <td>[MoMA Exh. #1, November 7-December 7, 1929]</td>\n",
       "      <td>11/7/1929</td>\n",
       "      <td>12/7/1929</td>\n",
       "      <td>1</td>\n",
       "      <td>http://www.moma.org/calendar/exhibitions/1767</td>\n",
       "      <td>Director</td>\n",
       "      <td>9168.0</td>\n",
       "      <td>...</td>\n",
       "      <td>NaN</td>\n",
       "      <td>American</td>\n",
       "      <td>1902.0</td>\n",
       "      <td>1981.0</td>\n",
       "      <td>American, 1902–1981</td>\n",
       "      <td>Male</td>\n",
       "      <td>109252856.0</td>\n",
       "      <td>Q711362</td>\n",
       "      <td>500241568.0</td>\n",
       "      <td>moma.org/artists/9168</td>\n",
       "    </tr>\n",
       "    <tr>\n",
       "      <th>1</th>\n",
       "      <td>2557.0</td>\n",
       "      <td>1</td>\n",
       "      <td>Cézanne, Gauguin, Seurat, Van Gogh</td>\n",
       "      <td>[MoMA Exh. #1, November 7-December 7, 1929]</td>\n",
       "      <td>11/7/1929</td>\n",
       "      <td>12/7/1929</td>\n",
       "      <td>1</td>\n",
       "      <td>http://www.moma.org/calendar/exhibitions/1767</td>\n",
       "      <td>Artist</td>\n",
       "      <td>1053.0</td>\n",
       "      <td>...</td>\n",
       "      <td>NaN</td>\n",
       "      <td>French</td>\n",
       "      <td>1839.0</td>\n",
       "      <td>1906.0</td>\n",
       "      <td>French, 1839–1906</td>\n",
       "      <td>Male</td>\n",
       "      <td>39374836.0</td>\n",
       "      <td>Q35548</td>\n",
       "      <td>500004800.0</td>\n",
       "      <td>moma.org/artists/1053</td>\n",
       "    </tr>\n",
       "    <tr>\n",
       "      <th>2</th>\n",
       "      <td>2557.0</td>\n",
       "      <td>1</td>\n",
       "      <td>Cézanne, Gauguin, Seurat, Van Gogh</td>\n",
       "      <td>[MoMA Exh. #1, November 7-December 7, 1929]</td>\n",
       "      <td>11/7/1929</td>\n",
       "      <td>12/7/1929</td>\n",
       "      <td>1</td>\n",
       "      <td>http://www.moma.org/calendar/exhibitions/1767</td>\n",
       "      <td>Artist</td>\n",
       "      <td>2098.0</td>\n",
       "      <td>...</td>\n",
       "      <td>NaN</td>\n",
       "      <td>French</td>\n",
       "      <td>1848.0</td>\n",
       "      <td>1903.0</td>\n",
       "      <td>French, 1848–1903</td>\n",
       "      <td>Male</td>\n",
       "      <td>27064952.0</td>\n",
       "      <td>Q37693</td>\n",
       "      <td>500011424.0</td>\n",
       "      <td>moma.org/artists/2098</td>\n",
       "    </tr>\n",
       "    <tr>\n",
       "      <th>3</th>\n",
       "      <td>2557.0</td>\n",
       "      <td>1</td>\n",
       "      <td>Cézanne, Gauguin, Seurat, Van Gogh</td>\n",
       "      <td>[MoMA Exh. #1, November 7-December 7, 1929]</td>\n",
       "      <td>11/7/1929</td>\n",
       "      <td>12/7/1929</td>\n",
       "      <td>1</td>\n",
       "      <td>http://www.moma.org/calendar/exhibitions/1767</td>\n",
       "      <td>Artist</td>\n",
       "      <td>2206.0</td>\n",
       "      <td>...</td>\n",
       "      <td>NaN</td>\n",
       "      <td>Dutch</td>\n",
       "      <td>1853.0</td>\n",
       "      <td>1890.0</td>\n",
       "      <td>Dutch, 1853–1890</td>\n",
       "      <td>Male</td>\n",
       "      <td>9854560.0</td>\n",
       "      <td>Q5582</td>\n",
       "      <td>500115584.0</td>\n",
       "      <td>moma.org/artists/2206</td>\n",
       "    </tr>\n",
       "    <tr>\n",
       "      <th>4</th>\n",
       "      <td>2557.0</td>\n",
       "      <td>1</td>\n",
       "      <td>Cézanne, Gauguin, Seurat, Van Gogh</td>\n",
       "      <td>[MoMA Exh. #1, November 7-December 7, 1929]</td>\n",
       "      <td>11/7/1929</td>\n",
       "      <td>12/7/1929</td>\n",
       "      <td>1</td>\n",
       "      <td>http://www.moma.org/calendar/exhibitions/1767</td>\n",
       "      <td>Artist</td>\n",
       "      <td>5358.0</td>\n",
       "      <td>...</td>\n",
       "      <td>NaN</td>\n",
       "      <td>French</td>\n",
       "      <td>1859.0</td>\n",
       "      <td>1891.0</td>\n",
       "      <td>French, 1859–1891</td>\n",
       "      <td>Male</td>\n",
       "      <td>24608076.0</td>\n",
       "      <td>Q34013</td>\n",
       "      <td>500008864.0</td>\n",
       "      <td>moma.org/artists/5358</td>\n",
       "    </tr>\n",
       "  </tbody>\n",
       "</table>\n",
       "<p>5 rows × 27 columns</p>\n",
       "</div>"
      ],
      "text/plain": [
       "   ExhibitionID ExhibitionNumber                     ExhibitionTitle  \\\n",
       "0        2557.0                1  Cézanne, Gauguin, Seurat, Van Gogh   \n",
       "1        2557.0                1  Cézanne, Gauguin, Seurat, Van Gogh   \n",
       "2        2557.0                1  Cézanne, Gauguin, Seurat, Van Gogh   \n",
       "3        2557.0                1  Cézanne, Gauguin, Seurat, Van Gogh   \n",
       "4        2557.0                1  Cézanne, Gauguin, Seurat, Van Gogh   \n",
       "\n",
       "                        ExhibitionCitationDate ExhibitionBeginDate  \\\n",
       "0  [MoMA Exh. #1, November 7-December 7, 1929]           11/7/1929   \n",
       "1  [MoMA Exh. #1, November 7-December 7, 1929]           11/7/1929   \n",
       "2  [MoMA Exh. #1, November 7-December 7, 1929]           11/7/1929   \n",
       "3  [MoMA Exh. #1, November 7-December 7, 1929]           11/7/1929   \n",
       "4  [MoMA Exh. #1, November 7-December 7, 1929]           11/7/1929   \n",
       "\n",
       "  ExhibitionEndDate  ExhibitionSortOrder  \\\n",
       "0         12/7/1929                    1   \n",
       "1         12/7/1929                    1   \n",
       "2         12/7/1929                    1   \n",
       "3         12/7/1929                    1   \n",
       "4         12/7/1929                    1   \n",
       "\n",
       "                                   ExhibitionURL ExhibitionRole  \\\n",
       "0  http://www.moma.org/calendar/exhibitions/1767       Director   \n",
       "1  http://www.moma.org/calendar/exhibitions/1767         Artist   \n",
       "2  http://www.moma.org/calendar/exhibitions/1767         Artist   \n",
       "3  http://www.moma.org/calendar/exhibitions/1767         Artist   \n",
       "4  http://www.moma.org/calendar/exhibitions/1767         Artist   \n",
       "\n",
       "   ConstituentID  ... Institution Nationality ConstituentBeginDate  \\\n",
       "0         9168.0  ...         NaN    American               1902.0   \n",
       "1         1053.0  ...         NaN      French               1839.0   \n",
       "2         2098.0  ...         NaN      French               1848.0   \n",
       "3         2206.0  ...         NaN       Dutch               1853.0   \n",
       "4         5358.0  ...         NaN      French               1859.0   \n",
       "\n",
       "  ConstituentEndDate            ArtistBio Gender       VIAFID WikidataID  \\\n",
       "0             1981.0  American, 1902–1981   Male  109252856.0    Q711362   \n",
       "1             1906.0    French, 1839–1906   Male   39374836.0     Q35548   \n",
       "2             1903.0    French, 1848–1903   Male   27064952.0     Q37693   \n",
       "3             1890.0     Dutch, 1853–1890   Male    9854560.0      Q5582   \n",
       "4             1891.0    French, 1859–1891   Male   24608076.0     Q34013   \n",
       "\n",
       "        ULANID         ConstituentURL  \n",
       "0  500241568.0  moma.org/artists/9168  \n",
       "1  500004800.0  moma.org/artists/1053  \n",
       "2  500011424.0  moma.org/artists/2098  \n",
       "3  500115584.0  moma.org/artists/2206  \n",
       "4  500008864.0  moma.org/artists/5358  \n",
       "\n",
       "[5 rows x 27 columns]"
      ]
     },
     "execution_count": 46,
     "metadata": {},
     "output_type": "execute_result"
    }
   ],
   "source": [
    "moma.head()"
   ]
  },
  {
   "cell_type": "code",
   "execution_count": 48,
   "metadata": {},
   "outputs": [
    {
     "data": {
      "text/plain": [
       "1204"
      ]
     },
     "execution_count": 48,
     "metadata": {},
     "output_type": "execute_result"
    }
   ],
   "source": [
    "moma['ExhibitionEndDate'].isnull().sum()"
   ]
  },
  {
   "cell_type": "code",
   "execution_count": 49,
   "metadata": {},
   "outputs": [
    {
     "name": "stdout",
     "output_type": "stream",
     "text": [
      "901 µs ± 97.1 µs per loop (mean ± std. dev. of 7 runs, 1 loop each)\n"
     ]
    }
   ],
   "source": [
    "%%timeit\n",
    "moma['ExhibitionEndDate'] = pd.to_datetime(moma['ExhibitionEndDate'])"
   ]
  },
  {
   "cell_type": "code",
   "execution_count": 56,
   "metadata": {},
   "outputs": [],
   "source": [
    "moma['ExhibitionBeginDate'] = pd.to_datetime(moma['ExhibitionBeginDate'], format='%m/%d/%Y')"
   ]
  },
  {
   "cell_type": "code",
   "execution_count": 57,
   "metadata": {},
   "outputs": [
    {
     "data": {
      "text/plain": [
       "object            18\n",
       "float32            6\n",
       "datetime64[ns]     2\n",
       "int16              1\n",
       "dtype: int64"
      ]
     },
     "execution_count": 57,
     "metadata": {},
     "output_type": "execute_result"
    }
   ],
   "source": [
    "moma.dtypes.value_counts()"
   ]
  },
  {
   "cell_type": "code",
   "execution_count": 58,
   "metadata": {},
   "outputs": [
    {
     "name": "stdout",
     "output_type": "stream",
     "text": [
      "Average memory usage: 0.132 MB and total: 0.791 MB for 6x float32 columns.\n",
      "Average memory usage: 0.264 MB and total: 0.527 MB for 2x datetime64[ns] columns.\n",
      "Average memory usage: 0.066 MB and total: 0.066 MB for 1x int16 columns.\n",
      "Average memory usage: 2.192 MB and total: 39.46 MB for 18x object columns.\n",
      "----------------------\n",
      "Total memory usage: 40.844 MB\n"
     ]
    }
   ],
   "source": [
    "get_memory_usage_by_type(moma)"
   ]
  },
  {
   "cell_type": "markdown",
   "metadata": {},
   "source": [
    "### Converting to Categorical"
   ]
  },
  {
   "cell_type": "code",
   "execution_count": 59,
   "metadata": {},
   "outputs": [
    {
     "data": {
      "text/plain": [
       "array(['Individual', nan, 'Institution'], dtype=object)"
      ]
     },
     "execution_count": 59,
     "metadata": {},
     "output_type": "execute_result"
    }
   ],
   "source": [
    "moma['ConstituentType'].unique()"
   ]
  },
  {
   "cell_type": "code",
   "execution_count": 60,
   "metadata": {},
   "outputs": [
    {
     "data": {
      "text/plain": [
       "Individual     32008\n",
       "Institution     2416\n",
       "Name: ConstituentType, dtype: int64"
      ]
     },
     "execution_count": 60,
     "metadata": {},
     "output_type": "execute_result"
    }
   ],
   "source": [
    "moma['ConstituentType'].value_counts()"
   ]
  },
  {
   "cell_type": "code",
   "execution_count": 61,
   "metadata": {},
   "outputs": [
    {
     "data": {
      "text/plain": [
       "2.2060317993164062"
      ]
     },
     "execution_count": 61,
     "metadata": {},
     "output_type": "execute_result"
    }
   ],
   "source": [
    "moma['ConstituentType'].memory_usage(deep=True) / (1024*1024)"
   ]
  },
  {
   "cell_type": "code",
   "execution_count": 62,
   "metadata": {},
   "outputs": [
    {
     "data": {
      "text/plain": [
       "0.03323841094970703"
      ]
     },
     "execution_count": 62,
     "metadata": {},
     "output_type": "execute_result"
    }
   ],
   "source": [
    "moma['ConstituentType'].astype('category').memory_usage(deep=True) / (1024*1024)"
   ]
  },
  {
   "cell_type": "code",
   "execution_count": 63,
   "metadata": {},
   "outputs": [
    {
     "data": {
      "text/plain": [
       "66.36995380598513"
      ]
     },
     "execution_count": 63,
     "metadata": {},
     "output_type": "execute_result"
    }
   ],
   "source": [
    "2.20603179931640627/0.03323841094970703"
   ]
  },
  {
   "cell_type": "code",
   "execution_count": 64,
   "metadata": {},
   "outputs": [],
   "source": [
    "obj_col = moma.select_dtypes(include=['object'])"
   ]
  },
  {
   "cell_type": "code",
   "execution_count": 65,
   "metadata": {},
   "outputs": [],
   "source": [
    "for col in obj_col.columns:\n",
    "    num_unique_values = len(moma[col].unique())\n",
    "    num_total_values = len(moma[col])\n",
    "    \n",
    "    if num_unique_values / num_total_values < 0.5:\n",
    "        moma[col] = moma[col].astype('category')"
   ]
  },
  {
   "cell_type": "code",
   "execution_count": 66,
   "metadata": {},
   "outputs": [
    {
     "name": "stdout",
     "output_type": "stream",
     "text": [
      "Average memory usage: 0.132 MB and total: 0.791 MB for 6x float32 columns.\n",
      "Average memory usage: 0.264 MB and total: 0.527 MB for 2x datetime64[ns] columns.\n",
      "Average memory usage: 0.066 MB and total: 0.066 MB for 1x int16 columns.\n",
      "Average memory usage: 0.419 MB and total: 7.54 MB for 18x category columns.\n",
      "----------------------\n",
      "Total memory usage: 8.924 MB\n"
     ]
    }
   ],
   "source": [
    "get_memory_usage_by_type(moma)"
   ]
  },
  {
   "cell_type": "markdown",
   "metadata": {},
   "source": [
    "## Selecting Types While Reading the Data In"
   ]
  },
  {
   "cell_type": "markdown",
   "metadata": {},
   "source": [
    "### Example: MoMA dataset"
   ]
  },
  {
   "cell_type": "code",
   "execution_count": 67,
   "metadata": {},
   "outputs": [],
   "source": [
    "moma_sample = pd.read_csv(\"data/MoMAExhibitions1929to1989.csv\", nrows=3)"
   ]
  },
  {
   "cell_type": "code",
   "execution_count": 68,
   "metadata": {},
   "outputs": [
    {
     "data": {
      "text/html": [
       "<div>\n",
       "<style scoped>\n",
       "    .dataframe tbody tr th:only-of-type {\n",
       "        vertical-align: middle;\n",
       "    }\n",
       "\n",
       "    .dataframe tbody tr th {\n",
       "        vertical-align: top;\n",
       "    }\n",
       "\n",
       "    .dataframe thead th {\n",
       "        text-align: right;\n",
       "    }\n",
       "</style>\n",
       "<table border=\"1\" class=\"dataframe\">\n",
       "  <thead>\n",
       "    <tr style=\"text-align: right;\">\n",
       "      <th></th>\n",
       "      <th>ExhibitionID</th>\n",
       "      <th>ExhibitionNumber</th>\n",
       "      <th>ExhibitionTitle</th>\n",
       "      <th>ExhibitionCitationDate</th>\n",
       "      <th>ExhibitionBeginDate</th>\n",
       "      <th>ExhibitionEndDate</th>\n",
       "      <th>ExhibitionSortOrder</th>\n",
       "      <th>ExhibitionURL</th>\n",
       "      <th>ExhibitionRole</th>\n",
       "      <th>ConstituentID</th>\n",
       "      <th>...</th>\n",
       "      <th>Institution</th>\n",
       "      <th>Nationality</th>\n",
       "      <th>ConstituentBeginDate</th>\n",
       "      <th>ConstituentEndDate</th>\n",
       "      <th>ArtistBio</th>\n",
       "      <th>Gender</th>\n",
       "      <th>VIAFID</th>\n",
       "      <th>WikidataID</th>\n",
       "      <th>ULANID</th>\n",
       "      <th>ConstituentURL</th>\n",
       "    </tr>\n",
       "  </thead>\n",
       "  <tbody>\n",
       "    <tr>\n",
       "      <th>0</th>\n",
       "      <td>2557</td>\n",
       "      <td>1</td>\n",
       "      <td>Cézanne, Gauguin, Seurat, Van Gogh</td>\n",
       "      <td>[MoMA Exh. #1, November 7-December 7, 1929]</td>\n",
       "      <td>11/7/1929</td>\n",
       "      <td>12/7/1929</td>\n",
       "      <td>1</td>\n",
       "      <td>http://www.moma.org/calendar/exhibitions/1767</td>\n",
       "      <td>Director</td>\n",
       "      <td>9168</td>\n",
       "      <td>...</td>\n",
       "      <td>NaN</td>\n",
       "      <td>American</td>\n",
       "      <td>1902</td>\n",
       "      <td>1981</td>\n",
       "      <td>American, 1902–1981</td>\n",
       "      <td>Male</td>\n",
       "      <td>109252853</td>\n",
       "      <td>Q711362</td>\n",
       "      <td>500241556</td>\n",
       "      <td>moma.org/artists/9168</td>\n",
       "    </tr>\n",
       "    <tr>\n",
       "      <th>1</th>\n",
       "      <td>2557</td>\n",
       "      <td>1</td>\n",
       "      <td>Cézanne, Gauguin, Seurat, Van Gogh</td>\n",
       "      <td>[MoMA Exh. #1, November 7-December 7, 1929]</td>\n",
       "      <td>11/7/1929</td>\n",
       "      <td>12/7/1929</td>\n",
       "      <td>1</td>\n",
       "      <td>http://www.moma.org/calendar/exhibitions/1767</td>\n",
       "      <td>Artist</td>\n",
       "      <td>1053</td>\n",
       "      <td>...</td>\n",
       "      <td>NaN</td>\n",
       "      <td>French</td>\n",
       "      <td>1839</td>\n",
       "      <td>1906</td>\n",
       "      <td>French, 1839–1906</td>\n",
       "      <td>Male</td>\n",
       "      <td>39374836</td>\n",
       "      <td>Q35548</td>\n",
       "      <td>500004793</td>\n",
       "      <td>moma.org/artists/1053</td>\n",
       "    </tr>\n",
       "    <tr>\n",
       "      <th>2</th>\n",
       "      <td>2557</td>\n",
       "      <td>1</td>\n",
       "      <td>Cézanne, Gauguin, Seurat, Van Gogh</td>\n",
       "      <td>[MoMA Exh. #1, November 7-December 7, 1929]</td>\n",
       "      <td>11/7/1929</td>\n",
       "      <td>12/7/1929</td>\n",
       "      <td>1</td>\n",
       "      <td>http://www.moma.org/calendar/exhibitions/1767</td>\n",
       "      <td>Artist</td>\n",
       "      <td>2098</td>\n",
       "      <td>...</td>\n",
       "      <td>NaN</td>\n",
       "      <td>French</td>\n",
       "      <td>1848</td>\n",
       "      <td>1903</td>\n",
       "      <td>French, 1848–1903</td>\n",
       "      <td>Male</td>\n",
       "      <td>27064953</td>\n",
       "      <td>Q37693</td>\n",
       "      <td>500011421</td>\n",
       "      <td>moma.org/artists/2098</td>\n",
       "    </tr>\n",
       "  </tbody>\n",
       "</table>\n",
       "<p>3 rows × 27 columns</p>\n",
       "</div>"
      ],
      "text/plain": [
       "   ExhibitionID  ExhibitionNumber                     ExhibitionTitle  \\\n",
       "0          2557                 1  Cézanne, Gauguin, Seurat, Van Gogh   \n",
       "1          2557                 1  Cézanne, Gauguin, Seurat, Van Gogh   \n",
       "2          2557                 1  Cézanne, Gauguin, Seurat, Van Gogh   \n",
       "\n",
       "                        ExhibitionCitationDate ExhibitionBeginDate  \\\n",
       "0  [MoMA Exh. #1, November 7-December 7, 1929]           11/7/1929   \n",
       "1  [MoMA Exh. #1, November 7-December 7, 1929]           11/7/1929   \n",
       "2  [MoMA Exh. #1, November 7-December 7, 1929]           11/7/1929   \n",
       "\n",
       "  ExhibitionEndDate  ExhibitionSortOrder  \\\n",
       "0         12/7/1929                    1   \n",
       "1         12/7/1929                    1   \n",
       "2         12/7/1929                    1   \n",
       "\n",
       "                                   ExhibitionURL ExhibitionRole  \\\n",
       "0  http://www.moma.org/calendar/exhibitions/1767       Director   \n",
       "1  http://www.moma.org/calendar/exhibitions/1767         Artist   \n",
       "2  http://www.moma.org/calendar/exhibitions/1767         Artist   \n",
       "\n",
       "   ConstituentID  ... Institution Nationality ConstituentBeginDate  \\\n",
       "0           9168  ...         NaN    American                 1902   \n",
       "1           1053  ...         NaN      French                 1839   \n",
       "2           2098  ...         NaN      French                 1848   \n",
       "\n",
       "  ConstituentEndDate            ArtistBio Gender     VIAFID  WikidataID  \\\n",
       "0               1981  American, 1902–1981   Male  109252853     Q711362   \n",
       "1               1906    French, 1839–1906   Male   39374836      Q35548   \n",
       "2               1903    French, 1848–1903   Male   27064953      Q37693   \n",
       "\n",
       "      ULANID         ConstituentURL  \n",
       "0  500241556  moma.org/artists/9168  \n",
       "1  500004793  moma.org/artists/1053  \n",
       "2  500011421  moma.org/artists/2098  \n",
       "\n",
       "[3 rows x 27 columns]"
      ]
     },
     "execution_count": 68,
     "metadata": {},
     "output_type": "execute_result"
    }
   ],
   "source": [
    "moma_sample"
   ]
  },
  {
   "cell_type": "code",
   "execution_count": 69,
   "metadata": {},
   "outputs": [
    {
     "data": {
      "text/plain": [
       "['ExhibitionID',\n",
       " 'ExhibitionNumber',\n",
       " 'ExhibitionTitle',\n",
       " 'ExhibitionCitationDate',\n",
       " 'ExhibitionBeginDate',\n",
       " 'ExhibitionEndDate',\n",
       " 'ExhibitionSortOrder',\n",
       " 'ExhibitionURL',\n",
       " 'ExhibitionRole',\n",
       " 'ConstituentID',\n",
       " 'ConstituentType',\n",
       " 'DisplayName',\n",
       " 'AlphaSort',\n",
       " 'FirstName',\n",
       " 'MiddleName',\n",
       " 'LastName',\n",
       " 'Suffix',\n",
       " 'Institution',\n",
       " 'Nationality',\n",
       " 'ConstituentBeginDate',\n",
       " 'ConstituentEndDate',\n",
       " 'ArtistBio',\n",
       " 'Gender',\n",
       " 'VIAFID',\n",
       " 'WikidataID',\n",
       " 'ULANID',\n",
       " 'ConstituentURL']"
      ]
     },
     "execution_count": 69,
     "metadata": {},
     "output_type": "execute_result"
    }
   ],
   "source": [
    "moma_sample.columns.tolist() #dobimo seznam vseh stolpcev"
   ]
  },
  {
   "cell_type": "code",
   "execution_count": 70,
   "metadata": {},
   "outputs": [],
   "source": [
    "keep_cols = ['ExhibitionID', 'ExhibitionNumber', 'ExhibitionBeginDate', \n",
    "             'ExhibitionEndDate', 'ExhibitionSortOrder', 'ExhibitionRole', \n",
    "             'ConstituentType', 'DisplayName', 'Institution', 'Nationality', \n",
    "             'Gender']"
   ]
  },
  {
   "cell_type": "code",
   "execution_count": 71,
   "metadata": {},
   "outputs": [],
   "source": [
    "col_types = {'ExhibitionID': np.float32, \n",
    "             'ExhibitionNumber': 'category',\n",
    "             'ExhibitionSortOrder': np.float16, \n",
    "             'ExhibitionRole': 'category', \n",
    "             'ConstituentType' : 'category', \n",
    "             'DisplayName' : 'category', \n",
    "             'Institution': 'category',  \n",
    "             'Nationality' : 'category', \n",
    "             'Gender': 'category'}"
   ]
  },
  {
   "cell_type": "code",
   "execution_count": 72,
   "metadata": {},
   "outputs": [],
   "source": [
    "date_cols = [\"ExhibitionBeginDate\", \"ExhibitionEndDate\"]"
   ]
  },
  {
   "cell_type": "code",
   "execution_count": 74,
   "metadata": {},
   "outputs": [],
   "source": [
    "moma = pd.read_csv('data/MoMAExhibitions1929to1989.csv',\n",
    "                  usecols=keep_cols,\n",
    "                  parse_dates=date_cols,\n",
    "                  dtype=col_types)"
   ]
  },
  {
   "cell_type": "code",
   "execution_count": 75,
   "metadata": {},
   "outputs": [
    {
     "name": "stdout",
     "output_type": "stream",
     "text": [
      "Average memory usage: 0.132 MB and total: 0.132 MB for 1x float32 columns.\n",
      "Average memory usage: 0.264 MB and total: 0.527 MB for 2x datetime64[ns] columns.\n",
      "Average memory usage: 0.066 MB and total: 0.066 MB for 1x float16 columns.\n",
      "Average memory usage: 0.266 MB and total: 1.861 MB for 7x category columns.\n",
      "----------------------\n",
      "Total memory usage: 2.587 MB\n"
     ]
    }
   ],
   "source": [
    "get_memory_usage_by_type(moma)"
   ]
  },
  {
   "cell_type": "markdown",
   "metadata": {},
   "source": [
    "## Processing Dataframes in Chunks"
   ]
  },
  {
   "cell_type": "markdown",
   "metadata": {},
   "source": [
    "### Processing Chunks"
   ]
  },
  {
   "cell_type": "markdown",
   "metadata": {},
   "source": [
    "<img src=\"./images/processing_chunks_overview.png\">"
   ]
  },
  {
   "cell_type": "code",
   "execution_count": 95,
   "metadata": {},
   "outputs": [],
   "source": [
    "import pandas as pd\n",
    "import numpy as np"
   ]
  },
  {
   "cell_type": "code",
   "execution_count": 96,
   "metadata": {},
   "outputs": [],
   "source": [
    "#10000 vrstic prebere, le te shrani\n",
    "chunk_iter = pd.read_csv(\"data/MoMAExhibitions1929to1989.csv\", chunksize=10000) "
   ]
  },
  {
   "cell_type": "code",
   "execution_count": 97,
   "metadata": {},
   "outputs": [
    {
     "data": {
      "text/plain": [
       "pandas.io.parsers.TextFileReader"
      ]
     },
     "execution_count": 97,
     "metadata": {},
     "output_type": "execute_result"
    }
   ],
   "source": [
    "type(chunk_iter)"
   ]
  },
  {
   "cell_type": "code",
   "execution_count": 98,
   "metadata": {},
   "outputs": [
    {
     "name": "stdout",
     "output_type": "stream",
     "text": [
      "10000\n",
      "10000\n",
      "10000\n",
      "4558\n"
     ]
    }
   ],
   "source": [
    "for chunk in chunk_iter:\n",
    "    print(len(chunk))"
   ]
  },
  {
   "cell_type": "code",
   "execution_count": 82,
   "metadata": {},
   "outputs": [],
   "source": [
    "#moramo ponovno zagnat zgoraj, kot generator, se porabi\n",
    "for chunk in chunk_iter:\n",
    "    print(len(chunk))"
   ]
  },
  {
   "cell_type": "code",
   "execution_count": 99,
   "metadata": {},
   "outputs": [],
   "source": [
    "# Create an iterator object that reads in 250-row chunks from \"moma.csv\".\n",
    "chunk_iter = pd.read_csv(\"data/MoMAExhibitions1929to1989.csv\", chunksize=250)"
   ]
  },
  {
   "cell_type": "code",
   "execution_count": 108,
   "metadata": {},
   "outputs": [],
   "source": [
    "# For each chunk, retrieve the memory footprint in megabytes and append it to the list memory_footprints.\n",
    "memory_footprints = []\n",
    "\n",
    "for chunk in chunk_iter:\n",
    "    memory_footprints.append(chunk.memory_usage(deep=True).sum()/(1024*1024))"
   ]
  },
  {
   "cell_type": "code",
   "execution_count": 109,
   "metadata": {},
   "outputs": [
    {
     "data": {
      "text/plain": [
       "[0.33249950408935547,\n",
       " 0.31836509704589844,\n",
       " 0.3388090133666992,\n",
       " 0.3213357925415039,\n",
       " 0.3103170394897461,\n",
       " 0.3450813293457031,\n",
       " 0.3297605514526367,\n",
       " 0.2970438003540039,\n",
       " 0.3122873306274414,\n",
       " 0.32139015197753906,\n",
       " 0.3320283889770508,\n",
       " 0.32774829864501953,\n",
       " 0.31999683380126953,\n",
       " 0.33150291442871094,\n",
       " 0.3242950439453125,\n",
       " 0.3008842468261719,\n",
       " 0.31285858154296875,\n",
       " 0.33413219451904297,\n",
       " 0.3320474624633789,\n",
       " 0.3096294403076172,\n",
       " 0.3233652114868164,\n",
       " 0.3118629455566406,\n",
       " 0.3000011444091797,\n",
       " 0.3179178237915039,\n",
       " 0.3313016891479492,\n",
       " 0.3272714614868164,\n",
       " 0.3253192901611328,\n",
       " 0.3093690872192383,\n",
       " 0.3310670852661133,\n",
       " 0.3280906677246094,\n",
       " 0.3499717712402344,\n",
       " 0.31716060638427734,\n",
       " 0.3275928497314453,\n",
       " 0.2990579605102539,\n",
       " 0.3293571472167969,\n",
       " 0.3266181945800781,\n",
       " 0.33381175994873047,\n",
       " 0.3308372497558594,\n",
       " 0.2909412384033203,\n",
       " 0.30542469024658203,\n",
       " 0.31536388397216797,\n",
       " 0.3170909881591797,\n",
       " 0.3081350326538086,\n",
       " 0.31125926971435547,\n",
       " 0.3208637237548828,\n",
       " 0.2970743179321289,\n",
       " 0.3061408996582031,\n",
       " 0.31539058685302734,\n",
       " 0.2965097427368164,\n",
       " 0.3178548812866211,\n",
       " 0.30678367614746094,\n",
       " 0.3210926055908203,\n",
       " 0.3255281448364258,\n",
       " 0.3146209716796875,\n",
       " 0.31557750701904297,\n",
       " 0.3112773895263672,\n",
       " 0.34842777252197266,\n",
       " 0.3227500915527344,\n",
       " 0.2947969436645508,\n",
       " 0.31618404388427734,\n",
       " 0.32953643798828125,\n",
       " 0.3087587356567383,\n",
       " 0.3109292984008789,\n",
       " 0.3313102722167969,\n",
       " 0.3312673568725586,\n",
       " 0.316650390625,\n",
       " 0.3123607635498047,\n",
       " 0.3150062561035156,\n",
       " 0.3250112533569336,\n",
       " 0.32163047790527344,\n",
       " 0.3162975311279297,\n",
       " 0.3338327407836914,\n",
       " 0.3271312713623047,\n",
       " 0.32618236541748047,\n",
       " 0.3243074417114258,\n",
       " 0.3131532669067383,\n",
       " 0.33377838134765625,\n",
       " 0.32929420471191406,\n",
       " 0.31503963470458984,\n",
       " 0.33323192596435547,\n",
       " 0.3132781982421875,\n",
       " 0.32481861114501953,\n",
       " 0.31679534912109375,\n",
       " 0.33504199981689453,\n",
       " 0.3365516662597656,\n",
       " 0.31176280975341797,\n",
       " 0.3329124450683594,\n",
       " 0.3574962615966797,\n",
       " 0.3265571594238281,\n",
       " 0.3210468292236328,\n",
       " 0.33440303802490234,\n",
       " 0.3251619338989258,\n",
       " 0.3279285430908203,\n",
       " 0.3265247344970703,\n",
       " 0.3311042785644531,\n",
       " 0.3342885971069336,\n",
       " 0.32651805877685547,\n",
       " 0.3305797576904297,\n",
       " 0.31920337677001953,\n",
       " 0.3357372283935547,\n",
       " 0.33051300048828125,\n",
       " 0.33831787109375,\n",
       " 0.32644081115722656,\n",
       " 0.3276834487915039,\n",
       " 0.32839488983154297,\n",
       " 0.32445526123046875,\n",
       " 0.3226127624511719,\n",
       " 0.32145023345947266,\n",
       " 0.32303333282470703,\n",
       " 0.32741260528564453,\n",
       " 0.32897377014160156,\n",
       " 0.3252143859863281,\n",
       " 0.3240242004394531,\n",
       " 0.3089170455932617,\n",
       " 0.3259859085083008,\n",
       " 0.32288074493408203,\n",
       " 0.33263587951660156,\n",
       " 0.3212318420410156,\n",
       " 0.3259696960449219,\n",
       " 0.3263864517211914,\n",
       " 0.3257608413696289,\n",
       " 0.32212162017822266,\n",
       " 0.32025623321533203,\n",
       " 0.32711315155029297,\n",
       " 0.3127889633178711,\n",
       " 0.3178853988647461,\n",
       " 0.32394981384277344,\n",
       " 0.3399925231933594,\n",
       " 0.34575462341308594,\n",
       " 0.32517147064208984,\n",
       " 0.32755470275878906,\n",
       " 0.3329753875732422,\n",
       " 0.32671451568603516,\n",
       " 0.32067394256591797,\n",
       " 0.3247966766357422,\n",
       " 0.3267402648925781,\n",
       " 0.32346057891845703,\n",
       " 0.3252983093261719,\n",
       " 0.07383918762207031]"
      ]
     },
     "execution_count": 109,
     "metadata": {},
     "output_type": "execute_result"
    }
   ],
   "source": [
    "memory_footprints"
   ]
  },
  {
   "cell_type": "code",
   "execution_count": 110,
   "metadata": {},
   "outputs": [
    {
     "data": {
      "image/png": "[encoded data removed]",
      "text/plain": [
       "<Figure size 432x288 with 1 Axes>"
      ]
     },
     "metadata": {
      "needs_background": "light"
     },
     "output_type": "display_data"
    }
   ],
   "source": [
    "# Generate and display a histogram of the values in memory_footprints using pyplot.hist()\n",
    "import matplotlib.pyplot as plt\n",
    "\n",
    "plt.hist(memory_footprints)\n",
    "plt.show()"
   ]
  },
  {
   "cell_type": "markdown",
   "metadata": {},
   "source": [
    "### Counting Across Chunks"
   ]
  },
  {
   "cell_type": "code",
   "execution_count": 111,
   "metadata": {},
   "outputs": [],
   "source": [
    "# Create an iterator object that reads in 250-row chunks from \"moma.csv\".\n",
    "chunk_iter = pd.read_csv(\"data/MoMAExhibitions1929to1989.csv\", chunksize=250)"
   ]
  },
  {
   "cell_type": "code",
   "execution_count": 112,
   "metadata": {},
   "outputs": [],
   "source": [
    "# For each chunk, retrieve the number of rows and add it to num_rows.\n",
    "num_rows = 0\n",
    "\n",
    "for chunk in chunk_iter:\n",
    "    num_rows += len(chunk)\n"
   ]
  },
  {
   "cell_type": "code",
   "execution_count": 113,
   "metadata": {},
   "outputs": [
    {
     "data": {
      "text/plain": [
       "34558"
      ]
     },
     "execution_count": 113,
     "metadata": {},
     "output_type": "execute_result"
    }
   ],
   "source": [
    "num_rows"
   ]
  },
  {
   "cell_type": "markdown",
   "metadata": {},
   "source": [
    "### Batch Processing"
   ]
  },
  {
   "cell_type": "markdown",
   "metadata": {},
   "source": [
    "<img src=\"./images/process_chunks_count.png\">"
   ]
  },
  {
   "cell_type": "code",
   "execution_count": 114,
   "metadata": {},
   "outputs": [
    {
     "data": {
      "text/plain": [
       "0    1\n",
       "1    2\n",
       "0    2\n",
       "1    3\n",
       "dtype: int64"
      ]
     },
     "execution_count": 114,
     "metadata": {},
     "output_type": "execute_result"
    }
   ],
   "source": [
    "series_list = [pd.Series([1,2]), pd.Series([2,3])]\n",
    "\n",
    "pd.concat(series_list)"
   ]
  },
  {
   "cell_type": "code",
   "execution_count": 115,
   "metadata": {},
   "outputs": [],
   "source": [
    "lifespans = []"
   ]
  },
  {
   "cell_type": "code",
   "execution_count": 116,
   "metadata": {},
   "outputs": [],
   "source": [
    "dtypes = { 'ConstituentBeginDate': 'float',\n",
    "          'ConstituentEndDate': 'float'}\n",
    "\n",
    "chunk_iter = pd.read_csv(\"data/MoMAExhibitions1929to1989.csv\", \n",
    "                         chunksize=250,\n",
    "                        dtype=dtypes)"
   ]
  },
  {
   "cell_type": "code",
   "execution_count": 117,
   "metadata": {},
   "outputs": [],
   "source": [
    "for chunk in chunk_iter:\n",
    "    diff = chunk['ConstituentEndDate'] - chunk['ConstituentBeginDate']\n",
    "    lifespans.append(diff)\n"
   ]
  },
  {
   "cell_type": "code",
   "execution_count": 118,
   "metadata": {},
   "outputs": [],
   "source": [
    "lifespans_dist = pd.concat(lifespans)"
   ]
  },
  {
   "cell_type": "code",
   "execution_count": 119,
   "metadata": {},
   "outputs": [
    {
     "data": {
      "text/plain": [
       "0    79.0\n",
       "1    67.0\n",
       "2    55.0\n",
       "3    37.0\n",
       "4    32.0\n",
       "dtype: float64"
      ]
     },
     "execution_count": 119,
     "metadata": {},
     "output_type": "execute_result"
    }
   ],
   "source": [
    "lifespans_dist.head()"
   ]
  },
  {
   "cell_type": "markdown",
   "metadata": {},
   "source": [
    "### Optimizing Performance"
   ]
  },
  {
   "cell_type": "code",
   "execution_count": 125,
   "metadata": {},
   "outputs": [
    {
     "name": "stdout",
     "output_type": "stream",
     "text": [
      "1.33 s ± 15 ms per loop (mean ± std. dev. of 7 runs, 1 loop each)\n"
     ]
    }
   ],
   "source": [
    "%%timeit\n",
    "lifespans = []\n",
    "\n",
    "chunk_iter = pd.read_csv(\"data/MoMAExhibitions1929to1989.csv\", chunksize=250, \n",
    "                         dtype={\"ConstituentBeginDate\": \"float\", \"ConstituentEndDate\": \"float\"})\n",
    "\n",
    "for chunk in chunk_iter:\n",
    "    lifespans.append(chunk['ConstituentEndDate'] - chunk['ConstituentBeginDate'])\n",
    "  \n",
    "lifespans_dist = pd.concat(lifespans)"
   ]
  },
  {
   "cell_type": "code",
   "execution_count": 124,
   "metadata": {},
   "outputs": [
    {
     "name": "stdout",
     "output_type": "stream",
     "text": [
      "192 ms ± 4.93 ms per loop (mean ± std. dev. of 7 runs, 1 loop each)\n"
     ]
    }
   ],
   "source": [
    "%%timeit\n",
    "lifespans = []\n",
    "\n",
    "chunk_iter = pd.read_csv(\"data/MoMAExhibitions1929to1989.csv\", chunksize=2500, \n",
    "                         dtype={\"ConstituentBeginDate\": \"float\", \"ConstituentEndDate\": \"float\"},  \n",
    "                         usecols=['ConstituentBeginDate', 'ConstituentEndDate'])\n",
    "\n",
    "for chunk in chunk_iter:\n",
    "    lifespans.append(chunk['ConstituentEndDate'] - chunk['ConstituentBeginDate'])\n",
    "    \n",
    "lifespans_dist = pd.concat(lifespans)"
   ]
  },
  {
   "cell_type": "markdown",
   "metadata": {},
   "source": [
    "### Counting Unique Values"
   ]
  },
  {
   "cell_type": "markdown",
   "metadata": {},
   "source": [
    "<img src=\"./images/processing_chunks_value_counts.png\">"
   ]
  },
  {
   "cell_type": "markdown",
   "metadata": {},
   "source": [
    "We can use the pandas.concat() function to combine all of the chunks at the end."
   ]
  },
  {
   "cell_type": "code",
   "execution_count": 129,
   "metadata": {},
   "outputs": [],
   "source": [
    "chunk_iter = pd.read_csv(\"data/MoMAExhibitions1929to1989.csv\",\n",
    "                         chunksize=250, usecols=['Gender'])"
   ]
  },
  {
   "cell_type": "code",
   "execution_count": 131,
   "metadata": {},
   "outputs": [],
   "source": [
    "overall_vc = []\n",
    "\n",
    "for chunk in chunk_iter:\n",
    "    chunk_vc = chunk['Gender'].value_counts()\n",
    "    overall_vc.append(chunk_vc)\n",
    "    \n"
   ]
  },
  {
   "cell_type": "code",
   "execution_count": 132,
   "metadata": {},
   "outputs": [],
   "source": [
    "combined_vc = pd.concat(overall_vc)"
   ]
  },
  {
   "cell_type": "code",
   "execution_count": 133,
   "metadata": {
    "scrolled": true
   },
   "outputs": [
    {
     "data": {
      "text/plain": [
       "Male      193\n",
       "Female      6\n",
       "Male      195\n",
       "Female      8\n",
       "Male      104\n",
       "Name: Gender, dtype: int64"
      ]
     },
     "execution_count": 133,
     "metadata": {},
     "output_type": "execute_result"
    }
   ],
   "source": [
    "combined_vc.head()"
   ]
  },
  {
   "cell_type": "markdown",
   "metadata": {},
   "source": [
    "### Combining Chunks Using GroupBy"
   ]
  },
  {
   "cell_type": "code",
   "execution_count": 134,
   "metadata": {},
   "outputs": [],
   "source": [
    "final_vc = combined_vc.groupby(combined_vc.index).sum()"
   ]
  },
  {
   "cell_type": "code",
   "execution_count": 135,
   "metadata": {},
   "outputs": [
    {
     "data": {
      "text/plain": [
       "Female     2518\n",
       "Male      23060\n",
       "male          1\n",
       "Name: Gender, dtype: int64"
      ]
     },
     "execution_count": 135,
     "metadata": {},
     "output_type": "execute_result"
    }
   ],
   "source": [
    "final_vc"
   ]
  },
  {
   "cell_type": "code",
   "execution_count": 137,
   "metadata": {},
   "outputs": [
    {
     "data": {
      "text/html": [
       "<div>\n",
       "<style scoped>\n",
       "    .dataframe tbody tr th:only-of-type {\n",
       "        vertical-align: middle;\n",
       "    }\n",
       "\n",
       "    .dataframe tbody tr th {\n",
       "        vertical-align: top;\n",
       "    }\n",
       "\n",
       "    .dataframe thead th {\n",
       "        text-align: right;\n",
       "    }\n",
       "</style>\n",
       "<table border=\"1\" class=\"dataframe\">\n",
       "  <thead>\n",
       "    <tr style=\"text-align: right;\">\n",
       "      <th></th>\n",
       "      <th>ExhibitionID</th>\n",
       "      <th>ExhibitionNumber</th>\n",
       "      <th>ExhibitionBeginDate</th>\n",
       "      <th>ExhibitionEndDate</th>\n",
       "      <th>ExhibitionSortOrder</th>\n",
       "      <th>ExhibitionRole</th>\n",
       "      <th>ConstituentType</th>\n",
       "      <th>DisplayName</th>\n",
       "      <th>Institution</th>\n",
       "      <th>Nationality</th>\n",
       "      <th>Gender</th>\n",
       "    </tr>\n",
       "  </thead>\n",
       "  <tbody>\n",
       "    <tr>\n",
       "      <th>0</th>\n",
       "      <td>2557.0</td>\n",
       "      <td>1</td>\n",
       "      <td>1929-11-07</td>\n",
       "      <td>1929-12-07</td>\n",
       "      <td>1.0</td>\n",
       "      <td>Director</td>\n",
       "      <td>Individual</td>\n",
       "      <td>Alfred H. Barr, Jr.</td>\n",
       "      <td>NaN</td>\n",
       "      <td>American</td>\n",
       "      <td>Male</td>\n",
       "    </tr>\n",
       "    <tr>\n",
       "      <th>1</th>\n",
       "      <td>2557.0</td>\n",
       "      <td>1</td>\n",
       "      <td>1929-11-07</td>\n",
       "      <td>1929-12-07</td>\n",
       "      <td>1.0</td>\n",
       "      <td>Artist</td>\n",
       "      <td>Individual</td>\n",
       "      <td>Paul Cézanne</td>\n",
       "      <td>NaN</td>\n",
       "      <td>French</td>\n",
       "      <td>Male</td>\n",
       "    </tr>\n",
       "    <tr>\n",
       "      <th>2</th>\n",
       "      <td>2557.0</td>\n",
       "      <td>1</td>\n",
       "      <td>1929-11-07</td>\n",
       "      <td>1929-12-07</td>\n",
       "      <td>1.0</td>\n",
       "      <td>Artist</td>\n",
       "      <td>Individual</td>\n",
       "      <td>Paul Gauguin</td>\n",
       "      <td>NaN</td>\n",
       "      <td>French</td>\n",
       "      <td>Male</td>\n",
       "    </tr>\n",
       "    <tr>\n",
       "      <th>3</th>\n",
       "      <td>2557.0</td>\n",
       "      <td>1</td>\n",
       "      <td>1929-11-07</td>\n",
       "      <td>1929-12-07</td>\n",
       "      <td>1.0</td>\n",
       "      <td>Artist</td>\n",
       "      <td>Individual</td>\n",
       "      <td>Vincent van Gogh</td>\n",
       "      <td>NaN</td>\n",
       "      <td>Dutch</td>\n",
       "      <td>Male</td>\n",
       "    </tr>\n",
       "    <tr>\n",
       "      <th>4</th>\n",
       "      <td>2557.0</td>\n",
       "      <td>1</td>\n",
       "      <td>1929-11-07</td>\n",
       "      <td>1929-12-07</td>\n",
       "      <td>1.0</td>\n",
       "      <td>Artist</td>\n",
       "      <td>Individual</td>\n",
       "      <td>Georges-Pierre Seurat</td>\n",
       "      <td>NaN</td>\n",
       "      <td>French</td>\n",
       "      <td>Male</td>\n",
       "    </tr>\n",
       "  </tbody>\n",
       "</table>\n",
       "</div>"
      ],
      "text/plain": [
       "   ExhibitionID ExhibitionNumber ExhibitionBeginDate ExhibitionEndDate  \\\n",
       "0        2557.0                1          1929-11-07        1929-12-07   \n",
       "1        2557.0                1          1929-11-07        1929-12-07   \n",
       "2        2557.0                1          1929-11-07        1929-12-07   \n",
       "3        2557.0                1          1929-11-07        1929-12-07   \n",
       "4        2557.0                1          1929-11-07        1929-12-07   \n",
       "\n",
       "   ExhibitionSortOrder ExhibitionRole ConstituentType            DisplayName  \\\n",
       "0                  1.0       Director      Individual    Alfred H. Barr, Jr.   \n",
       "1                  1.0         Artist      Individual           Paul Cézanne   \n",
       "2                  1.0         Artist      Individual           Paul Gauguin   \n",
       "3                  1.0         Artist      Individual       Vincent van Gogh   \n",
       "4                  1.0         Artist      Individual  Georges-Pierre Seurat   \n",
       "\n",
       "  Institution Nationality Gender  \n",
       "0         NaN    American   Male  \n",
       "1         NaN      French   Male  \n",
       "2         NaN      French   Male  \n",
       "3         NaN       Dutch   Male  \n",
       "4         NaN      French   Male  "
      ]
     },
     "execution_count": 137,
     "metadata": {},
     "output_type": "execute_result"
    }
   ],
   "source": [
    "moma.head()"
   ]
  },
  {
   "cell_type": "code",
   "execution_count": 140,
   "metadata": {},
   "outputs": [
    {
     "data": {
      "text/plain": [
       "\"Primitivism\" in 20th Century Art: Affinity of the Tribal and the Modern      3\n",
       "\"That's Not All Folks!\":  Warner Bros. Cartoons Golden Jubilee                2\n",
       "100 Drawings from the Museum Collection                                      76\n",
       "100 Useful Objects of Fine Design (available under $100)                    135\n",
       "12 Photographers                                                             13\n",
       "15 Americans                                                                 16\n",
       "16 Americans                                                                 17\n",
       "20 Drawings: New Acquisitions                                                21\n",
       "20 Gifts in Honor of Myron Orlofsky                                          20\n",
       "20th Century Design from the Museum Collection                              259\n",
       "Name: ExhibitionTitle, dtype: int64"
      ]
     },
     "execution_count": 140,
     "metadata": {},
     "output_type": "execute_result"
    }
   ],
   "source": [
    "chunk_iter = pd.read_csv(\"data/MoMAExhibitions1929to1989.csv\",\n",
    "                         chunksize=250, usecols=['ExhibitionTitle'])\n",
    "overall_vc = []\n",
    "\n",
    "for chunk in chunk_iter:\n",
    "    chunk_vc = chunk['ExhibitionTitle'].value_counts()\n",
    "    overall_vc.append(chunk_vc)\n",
    "\n",
    "combined_vc = pd.concat(overall_vc)\n",
    "\n",
    "final_vc = combined_vc.groupby(combined_vc.index).sum()\n",
    "final_vc.head(10)"
   ]
  },
  {
   "cell_type": "markdown",
   "metadata": {},
   "source": [
    "## Analizing big files with Pandas and SQLite"
   ]
  },
  {
   "cell_type": "code",
   "execution_count": 141,
   "metadata": {},
   "outputs": [],
   "source": [
    "import sqlite3"
   ]
  },
  {
   "cell_type": "code",
   "execution_count": 142,
   "metadata": {},
   "outputs": [],
   "source": [
    "conn = sqlite3.connect('data/moma.db')"
   ]
  },
  {
   "cell_type": "code",
   "execution_count": 143,
   "metadata": {},
   "outputs": [],
   "source": [
    "moma_iter = pd.read_csv('data/moma.csv', chunksize=1000)"
   ]
  },
  {
   "cell_type": "code",
   "execution_count": 144,
   "metadata": {},
   "outputs": [],
   "source": [
    "for chunk in moma_iter:\n",
    "    chunk.to_sql('exhibitions', conn, \n",
    "                 if_exists='append', index=False)"
   ]
  },
  {
   "cell_type": "markdown",
   "metadata": {},
   "source": [
    "### Computing Primarily in SQL"
   ]
  },
  {
   "cell_type": "code",
   "execution_count": 145,
   "metadata": {},
   "outputs": [],
   "source": [
    "conn = sqlite3.connect('data/moma.db')"
   ]
  },
  {
   "cell_type": "code",
   "execution_count": 146,
   "metadata": {},
   "outputs": [],
   "source": [
    "q = '''SELECT exhibitionid, count(*) AS counts \n",
    "    from exhibitions \n",
    "    GROUP BY exhibitionid \n",
    "    ORDER BY counts desc;'''"
   ]
  },
  {
   "cell_type": "code",
   "execution_count": 148,
   "metadata": {},
   "outputs": [],
   "source": [
    "eid_counts = pd.read_sql_query(q, conn)"
   ]
  },
  {
   "cell_type": "code",
   "execution_count": 149,
   "metadata": {},
   "outputs": [],
   "source": [
    "conn.close()"
   ]
  },
  {
   "cell_type": "code",
   "execution_count": 150,
   "metadata": {},
   "outputs": [
    {
     "data": {
      "text/html": [
       "<div>\n",
       "<style scoped>\n",
       "    .dataframe tbody tr th:only-of-type {\n",
       "        vertical-align: middle;\n",
       "    }\n",
       "\n",
       "    .dataframe tbody tr th {\n",
       "        vertical-align: top;\n",
       "    }\n",
       "\n",
       "    .dataframe thead th {\n",
       "        text-align: right;\n",
       "    }\n",
       "</style>\n",
       "<table border=\"1\" class=\"dataframe\">\n",
       "  <thead>\n",
       "    <tr style=\"text-align: right;\">\n",
       "      <th></th>\n",
       "      <th>ExhibitionID</th>\n",
       "      <th>counts</th>\n",
       "    </tr>\n",
       "  </thead>\n",
       "  <tbody>\n",
       "    <tr>\n",
       "      <th>0</th>\n",
       "      <td>NaN</td>\n",
       "      <td>858</td>\n",
       "    </tr>\n",
       "    <tr>\n",
       "      <th>1</th>\n",
       "      <td>7.0</td>\n",
       "      <td>642</td>\n",
       "    </tr>\n",
       "    <tr>\n",
       "      <th>2</th>\n",
       "      <td>3838.0</td>\n",
       "      <td>604</td>\n",
       "    </tr>\n",
       "    <tr>\n",
       "      <th>3</th>\n",
       "      <td>3030.0</td>\n",
       "      <td>568</td>\n",
       "    </tr>\n",
       "    <tr>\n",
       "      <th>4</th>\n",
       "      <td>3988.0</td>\n",
       "      <td>550</td>\n",
       "    </tr>\n",
       "    <tr>\n",
       "      <th>5</th>\n",
       "      <td>2600.0</td>\n",
       "      <td>524</td>\n",
       "    </tr>\n",
       "    <tr>\n",
       "      <th>6</th>\n",
       "      <td>79.0</td>\n",
       "      <td>518</td>\n",
       "    </tr>\n",
       "    <tr>\n",
       "      <th>7</th>\n",
       "      <td>10601.0</td>\n",
       "      <td>512</td>\n",
       "    </tr>\n",
       "    <tr>\n",
       "      <th>8</th>\n",
       "      <td>3939.0</td>\n",
       "      <td>508</td>\n",
       "    </tr>\n",
       "    <tr>\n",
       "      <th>9</th>\n",
       "      <td>3036.0</td>\n",
       "      <td>488</td>\n",
       "    </tr>\n",
       "  </tbody>\n",
       "</table>\n",
       "</div>"
      ],
      "text/plain": [
       "   ExhibitionID  counts\n",
       "0           NaN     858\n",
       "1           7.0     642\n",
       "2        3838.0     604\n",
       "3        3030.0     568\n",
       "4        3988.0     550\n",
       "5        2600.0     524\n",
       "6          79.0     518\n",
       "7       10601.0     512\n",
       "8        3939.0     508\n",
       "9        3036.0     488"
      ]
     },
     "execution_count": 150,
     "metadata": {},
     "output_type": "execute_result"
    }
   ],
   "source": [
    "eid_counts.head(10)"
   ]
  },
  {
   "cell_type": "markdown",
   "metadata": {},
   "source": [
    "### Computing Primarily in Pandas"
   ]
  },
  {
   "cell_type": "code",
   "execution_count": 151,
   "metadata": {},
   "outputs": [],
   "source": [
    "conn = sqlite3.connect('data/moma.db')"
   ]
  },
  {
   "cell_type": "code",
   "execution_count": 153,
   "metadata": {},
   "outputs": [],
   "source": [
    "q = 'SELECT exhibitionid FROM exhibitions;'"
   ]
  },
  {
   "cell_type": "code",
   "execution_count": 154,
   "metadata": {},
   "outputs": [],
   "source": [
    "eid_counts = pd.read_sql_query(q, conn)"
   ]
  },
  {
   "cell_type": "code",
   "execution_count": 155,
   "metadata": {},
   "outputs": [],
   "source": [
    "conn.close()"
   ]
  },
  {
   "cell_type": "code",
   "execution_count": 156,
   "metadata": {},
   "outputs": [
    {
     "data": {
      "text/html": [
       "<div>\n",
       "<style scoped>\n",
       "    .dataframe tbody tr th:only-of-type {\n",
       "        vertical-align: middle;\n",
       "    }\n",
       "\n",
       "    .dataframe tbody tr th {\n",
       "        vertical-align: top;\n",
       "    }\n",
       "\n",
       "    .dataframe thead th {\n",
       "        text-align: right;\n",
       "    }\n",
       "</style>\n",
       "<table border=\"1\" class=\"dataframe\">\n",
       "  <thead>\n",
       "    <tr style=\"text-align: right;\">\n",
       "      <th></th>\n",
       "      <th>ExhibitionID</th>\n",
       "    </tr>\n",
       "  </thead>\n",
       "  <tbody>\n",
       "    <tr>\n",
       "      <th>0</th>\n",
       "      <td>2557.0</td>\n",
       "    </tr>\n",
       "    <tr>\n",
       "      <th>1</th>\n",
       "      <td>2557.0</td>\n",
       "    </tr>\n",
       "    <tr>\n",
       "      <th>2</th>\n",
       "      <td>2557.0</td>\n",
       "    </tr>\n",
       "    <tr>\n",
       "      <th>3</th>\n",
       "      <td>2557.0</td>\n",
       "    </tr>\n",
       "    <tr>\n",
       "      <th>4</th>\n",
       "      <td>2557.0</td>\n",
       "    </tr>\n",
       "  </tbody>\n",
       "</table>\n",
       "</div>"
      ],
      "text/plain": [
       "   ExhibitionID\n",
       "0        2557.0\n",
       "1        2557.0\n",
       "2        2557.0\n",
       "3        2557.0\n",
       "4        2557.0"
      ]
     },
     "execution_count": 156,
     "metadata": {},
     "output_type": "execute_result"
    }
   ],
   "source": [
    "eid_counts.head()"
   ]
  },
  {
   "cell_type": "code",
   "execution_count": 159,
   "metadata": {},
   "outputs": [],
   "source": [
    "eid_pandas_counts = eid_counts['ExhibitionID'].value_counts(dropna=False)"
   ]
  },
  {
   "cell_type": "code",
   "execution_count": 160,
   "metadata": {},
   "outputs": [
    {
     "data": {
      "text/plain": [
       "NaN        858\n",
       "7.0        642\n",
       "3838.0     604\n",
       "3030.0     568\n",
       "3988.0     550\n",
       "2600.0     524\n",
       "79.0       518\n",
       "10601.0    512\n",
       "3939.0     508\n",
       "3036.0     488\n",
       "Name: ExhibitionID, dtype: int64"
      ]
     },
     "execution_count": 160,
     "metadata": {},
     "output_type": "execute_result"
    }
   ],
   "source": [
    "eid_pandas_counts.head(10)"
   ]
  },
  {
   "cell_type": "markdown",
   "metadata": {},
   "source": [
    "### Reading in SQL Results Using Chunks"
   ]
  },
  {
   "cell_type": "code",
   "execution_count": 161,
   "metadata": {},
   "outputs": [],
   "source": [
    "conn = sqlite3.connect('data/moma.db')"
   ]
  },
  {
   "cell_type": "code",
   "execution_count": 162,
   "metadata": {},
   "outputs": [
    {
     "name": "stdout",
     "output_type": "stream",
     "text": [
      "2.04 s ± 14.5 ms per loop (mean ± std. dev. of 7 runs, 1 loop each)\n"
     ]
    }
   ],
   "source": [
    "%%timeit\n",
    "q = 'select exhibitionid from exhibitions;'\n",
    "chunk_iter = pd.read_sql(q, conn, chunksize=100)\n",
    "\n",
    "for chunk in chunk_iter:\n",
    "    eid_pandas_counts = eid_counts['ExhibitionID'].value_counts()"
   ]
  },
  {
   "cell_type": "code",
   "execution_count": 163,
   "metadata": {},
   "outputs": [
    {
     "name": "stdout",
     "output_type": "stream",
     "text": [
      "321 ms ± 2.39 ms per loop (mean ± std. dev. of 7 runs, 1 loop each)\n"
     ]
    }
   ],
   "source": [
    "%%timeit\n",
    "q = 'select exhibitionid from exhibitions;'\n",
    "chunk_iter = pd.read_sql(q, conn, chunksize=1000)\n",
    "\n",
    "for chunk in chunk_iter:\n",
    "    eid_pandas_counts = eid_counts['ExhibitionID'].value_counts()"
   ]
  },
  {
   "cell_type": "code",
   "execution_count": 164,
   "metadata": {},
   "outputs": [
    {
     "name": "stdout",
     "output_type": "stream",
     "text": [
      "140 ms ± 665 µs per loop (mean ± std. dev. of 7 runs, 10 loops each)\n"
     ]
    }
   ],
   "source": [
    "%%timeit\n",
    "q = 'select exhibitionid from exhibitions;'\n",
    "chunk_iter = pd.read_sql(q, conn, chunksize=10000)\n",
    "\n",
    "for chunk in chunk_iter:\n",
    "    eid_pandas_counts = eid_counts['ExhibitionID'].value_counts()"
   ]
  },
  {
   "cell_type": "markdown",
   "metadata": {},
   "source": [
    "## Vaja: Primer analize velikega dataseta"
   ]
  },
  {
   "cell_type": "code",
   "execution_count": 165,
   "metadata": {},
   "outputs": [],
   "source": [
    "test = pd.read_csv('data/crunchbase-investments.csv', encoding='ISO-8859-1', low_memory=False)"
   ]
  },
  {
   "cell_type": "code",
   "execution_count": 173,
   "metadata": {},
   "outputs": [
    {
     "name": "stdout",
     "output_type": "stream",
     "text": [
      "<class 'pandas.core.frame.DataFrame'>\n",
      "RangeIndex: 52870 entries, 0 to 52869\n",
      "Data columns (total 20 columns):\n",
      "company_permalink         52869 non-null object\n",
      "company_name              52869 non-null object\n",
      "company_category_code     52227 non-null object\n",
      "company_country_code      52869 non-null object\n",
      "company_state_code        52378 non-null object\n",
      "company_region            52869 non-null object\n",
      "company_city              52337 non-null object\n",
      "investor_permalink        52868 non-null object\n",
      "investor_name             52868 non-null object\n",
      "investor_category_code    2443 non-null object\n",
      "investor_country_code     40869 non-null object\n",
      "investor_state_code       36061 non-null object\n",
      "investor_region           52868 non-null object\n",
      "investor_city             40390 non-null object\n",
      "funding_round_type        52867 non-null object\n",
      "funded_at                 52867 non-null object\n",
      "funded_month              52867 non-null object\n",
      "funded_quarter            52867 non-null object\n",
      "funded_year               52867 non-null float64\n",
      "raised_amount_usd         49271 non-null float64\n",
      "dtypes: float64(2), object(18)\n",
      "memory usage: 58.6 MB\n"
     ]
    }
   ],
   "source": [
    "test.info(memory_usage = 'deep')"
   ]
  },
  {
   "cell_type": "code",
   "execution_count": 169,
   "metadata": {},
   "outputs": [],
   "source": [
    "chunk_iter = pd.read_csv('data/crunchbase-investments.csv', \n",
    "                         chunksize=5000, \n",
    "                        encoding='ISO-8859-1')"
   ]
  },
  {
   "cell_type": "code",
   "execution_count": 171,
   "metadata": {},
   "outputs": [
    {
     "name": "stdout",
     "output_type": "stream",
     "text": [
      "5.579195022583008\n",
      "5.528186798095703\n",
      "5.535004615783691\n",
      "5.528162956237793\n",
      "5.5243072509765625\n",
      "5.553412437438965\n",
      "5.531391143798828\n",
      "5.509613037109375\n",
      "5.396090507507324\n",
      "4.63945198059082\n",
      "2.663668632507324\n"
     ]
    }
   ],
   "source": [
    "mv_list = []\n",
    "\n",
    "for chunk in chunk_iter:\n",
    "    print(chunk.memory_usage(deep=True).sum()/(1024*1024))"
   ]
  },
  {
   "cell_type": "code",
   "execution_count": 176,
   "metadata": {},
   "outputs": [
    {
     "data": {
      "text/plain": [
       "company_country_code          1\n",
       "company_name                  1\n",
       "company_permalink             1\n",
       "company_region                1\n",
       "investor_region               2\n",
       "investor_permalink            2\n",
       "investor_name                 2\n",
       "funded_quarter                3\n",
       "funded_at                     3\n",
       "funded_month                  3\n",
       "funded_year                   3\n",
       "funding_round_type            3\n",
       "company_state_code          492\n",
       "company_city                533\n",
       "company_category_code       643\n",
       "raised_amount_usd          3599\n",
       "investor_country_code     12001\n",
       "investor_city             12480\n",
       "investor_state_code       16809\n",
       "investor_category_code    50427\n",
       "dtype: int64"
      ]
     },
     "execution_count": 176,
     "metadata": {},
     "output_type": "execute_result"
    }
   ],
   "source": [
    "#manjkajoče vrednosti v vsakem stolpcu\n",
    "chunk_iter = pd.read_csv('data/crunchbase-investments.csv', \n",
    "                         chunksize=5000, \n",
    "                        encoding='ISO-8859-1')\n",
    "\n",
    "mv_list = []\n",
    "\n",
    "for chunk in chunk_iter:\n",
    "    #poiščemo manjkajoče vrednosti v vsakem chunku\n",
    "    #print(chunk.isnull().sum())\n",
    "    mv_list.append(chunk.isnull().sum())\n",
    "    \n",
    "#združimo s concact\n",
    "combine_mv_vc = pd.concat(mv_list)\n",
    "\n",
    "#group by po indexu\n",
    "combine_mv_vc_gruped = combine_mv_vc.groupby(combine_mv_vc.index).sum()\n",
    "\n",
    "#razvrstimo po vrednostih\n",
    "combine_mv_vc_gruped.sort_values()"
   ]
  },
  {
   "cell_type": "code",
   "execution_count": 178,
   "metadata": {},
   "outputs": [],
   "source": [
    "#poraba pomnilnika po stolpcih\n",
    "chunk_iter = pd.read_csv('data/crunchbase-investments.csv', \n",
    "                         chunksize=5000, \n",
    "                        encoding='ISO-8859-1')\n",
    "\n",
    "counter = 0\n",
    "series_memory_fp = pd.Series()\n",
    "\n",
    "for chunk in chunk_iter:\n",
    "    if counter == 0:\n",
    "        series_memory_fp = chunk.memory_usage(deep=True)\n",
    "    else:\n",
    "        series_memory_fp += chunk.memory_usage(deep=True)\n",
    "    counter +=1\n",
    "    "
   ]
  },
  {
   "cell_type": "code",
   "execution_count": 180,
   "metadata": {},
   "outputs": [
    {
     "data": {
      "text/plain": [
       "Index                     0.000877\n",
       "company_permalink         3.869808\n",
       "company_name              3.424955\n",
       "company_category_code     3.262619\n",
       "company_country_code      3.025223\n",
       "company_state_code        2.962161\n",
       "company_region            3.253541\n",
       "company_city              3.343512\n",
       "investor_permalink        4.749821\n",
       "investor_name             3.734270\n",
       "investor_category_code    0.593590\n",
       "investor_country_code     2.524654\n",
       "investor_state_code       2.361876\n",
       "investor_region           3.238946\n",
       "investor_city             2.751430\n",
       "funding_round_type        3.252704\n",
       "funded_at                 3.378091\n",
       "funded_month              3.226837\n",
       "funded_quarter            3.226837\n",
       "funded_year               0.403366\n",
       "raised_amount_usd         0.403366\n",
       "dtype: float64"
      ]
     },
     "execution_count": 180,
     "metadata": {},
     "output_type": "execute_result"
    }
   ],
   "source": [
    "series_memory_fp / (1024*1024)"
   ]
  },
  {
   "cell_type": "code",
   "execution_count": null,
   "metadata": {},
   "outputs": [],
   "source": [
    "#identificiramo tip za vsak stolpec"
   ]
  },
  {
   "cell_type": "code",
   "execution_count": 182,
   "metadata": {},
   "outputs": [],
   "source": [
    "# Key: Column name, Value: List of types\n",
    "col_types = {}\n",
    "chunk_iter = pd.read_csv('data/crunchbase-investments.csv', \n",
    "                         chunksize=5000, \n",
    "                         encoding='ISO-8859-1') \n",
    "                         \n",
    "\n",
    "for chunk in chunk_iter:\n",
    "    for col in chunk.columns:\n",
    "        if col not in col_types:\n",
    "            col_types[col] = [str(chunk.dtypes[col])]\n",
    "        else:\n",
    "            col_types[col].append(str(chunk.dtypes[col]))\n",
    "            \n",
    "\n",
    "    "
   ]
  },
  {
   "cell_type": "code",
   "execution_count": 184,
   "metadata": {},
   "outputs": [
    {
     "data": {
      "text/plain": [
       "{'company_permalink': {'object'},\n",
       " 'company_name': {'object'},\n",
       " 'company_category_code': {'object'},\n",
       " 'company_country_code': {'object'},\n",
       " 'company_state_code': {'object'},\n",
       " 'company_region': {'object'},\n",
       " 'company_city': {'object'},\n",
       " 'investor_permalink': {'object'},\n",
       " 'investor_name': {'object'},\n",
       " 'investor_category_code': {'float64', 'object'},\n",
       " 'investor_country_code': {'float64', 'object'},\n",
       " 'investor_state_code': {'float64', 'object'},\n",
       " 'investor_region': {'object'},\n",
       " 'investor_city': {'float64', 'object'},\n",
       " 'funding_round_type': {'object'},\n",
       " 'funded_at': {'object'},\n",
       " 'funded_month': {'object'},\n",
       " 'funded_quarter': {'object'},\n",
       " 'funded_year': {'float64', 'int64'},\n",
       " 'raised_amount_usd': {'float64'}}"
      ]
     },
     "execution_count": 184,
     "metadata": {},
     "output_type": "execute_result"
    }
   ],
   "source": [
    "uniq_col_types = {}\n",
    "\n",
    "for k,v in col_types.items():\n",
    "    uniq_col_types[k] = set(col_types[k])\n",
    "\n",
    "uniq_col_types\n"
   ]
  },
  {
   "cell_type": "code",
   "execution_count": 185,
   "metadata": {},
   "outputs": [],
   "source": [
    "import sqlite3\n",
    "conn = sqlite3.connect('data/crunchbase.db')\n",
    "chunk_iter = pd.read_csv('data/crunchbase-investments.csv', \n",
    "                         chunksize=5000, \n",
    "                         encoding='ISO-8859-1')\n",
    "                        \n",
    "\n",
    "for chunk in chunk_iter:\n",
    "    chunk.to_sql('investments', conn, if_exists='append', index=False)"
   ]
  },
  {
   "cell_type": "code",
   "execution_count": 186,
   "metadata": {},
   "outputs": [],
   "source": [
    "q = 'SELECT * FROM investments LIMIT 5;'\n",
    "data_5 = pd.read_sql_query(q, conn)"
   ]
  },
  {
   "cell_type": "code",
   "execution_count": 187,
   "metadata": {},
   "outputs": [
    {
     "data": {
      "text/html": [
       "<div>\n",
       "<style scoped>\n",
       "    .dataframe tbody tr th:only-of-type {\n",
       "        vertical-align: middle;\n",
       "    }\n",
       "\n",
       "    .dataframe tbody tr th {\n",
       "        vertical-align: top;\n",
       "    }\n",
       "\n",
       "    .dataframe thead th {\n",
       "        text-align: right;\n",
       "    }\n",
       "</style>\n",
       "<table border=\"1\" class=\"dataframe\">\n",
       "  <thead>\n",
       "    <tr style=\"text-align: right;\">\n",
       "      <th></th>\n",
       "      <th>company_permalink</th>\n",
       "      <th>company_name</th>\n",
       "      <th>company_category_code</th>\n",
       "      <th>company_country_code</th>\n",
       "      <th>company_state_code</th>\n",
       "      <th>company_region</th>\n",
       "      <th>company_city</th>\n",
       "      <th>investor_permalink</th>\n",
       "      <th>investor_name</th>\n",
       "      <th>investor_category_code</th>\n",
       "      <th>investor_country_code</th>\n",
       "      <th>investor_state_code</th>\n",
       "      <th>investor_region</th>\n",
       "      <th>investor_city</th>\n",
       "      <th>funding_round_type</th>\n",
       "      <th>funded_at</th>\n",
       "      <th>funded_month</th>\n",
       "      <th>funded_quarter</th>\n",
       "      <th>funded_year</th>\n",
       "      <th>raised_amount_usd</th>\n",
       "    </tr>\n",
       "  </thead>\n",
       "  <tbody>\n",
       "    <tr>\n",
       "      <th>0</th>\n",
       "      <td>/company/advercar</td>\n",
       "      <td>AdverCar</td>\n",
       "      <td>advertising</td>\n",
       "      <td>USA</td>\n",
       "      <td>CA</td>\n",
       "      <td>SF Bay</td>\n",
       "      <td>San Francisco</td>\n",
       "      <td>/company/1-800-flowers-com</td>\n",
       "      <td>1-800-FLOWERS.COM</td>\n",
       "      <td>None</td>\n",
       "      <td>USA</td>\n",
       "      <td>NY</td>\n",
       "      <td>New York</td>\n",
       "      <td>New York</td>\n",
       "      <td>series-a</td>\n",
       "      <td>2012-10-30</td>\n",
       "      <td>2012-10</td>\n",
       "      <td>2012-Q4</td>\n",
       "      <td>2012</td>\n",
       "      <td>2000000.0</td>\n",
       "    </tr>\n",
       "    <tr>\n",
       "      <th>1</th>\n",
       "      <td>/company/launchgram</td>\n",
       "      <td>LaunchGram</td>\n",
       "      <td>news</td>\n",
       "      <td>USA</td>\n",
       "      <td>CA</td>\n",
       "      <td>SF Bay</td>\n",
       "      <td>Mountain View</td>\n",
       "      <td>/company/10xelerator</td>\n",
       "      <td>10Xelerator</td>\n",
       "      <td>finance</td>\n",
       "      <td>USA</td>\n",
       "      <td>OH</td>\n",
       "      <td>Columbus</td>\n",
       "      <td>Columbus</td>\n",
       "      <td>other</td>\n",
       "      <td>2012-01-23</td>\n",
       "      <td>2012-01</td>\n",
       "      <td>2012-Q1</td>\n",
       "      <td>2012</td>\n",
       "      <td>20000.0</td>\n",
       "    </tr>\n",
       "    <tr>\n",
       "      <th>2</th>\n",
       "      <td>/company/utap</td>\n",
       "      <td>uTaP</td>\n",
       "      <td>messaging</td>\n",
       "      <td>USA</td>\n",
       "      <td>None</td>\n",
       "      <td>United States - Other</td>\n",
       "      <td>None</td>\n",
       "      <td>/company/10xelerator</td>\n",
       "      <td>10Xelerator</td>\n",
       "      <td>finance</td>\n",
       "      <td>USA</td>\n",
       "      <td>OH</td>\n",
       "      <td>Columbus</td>\n",
       "      <td>Columbus</td>\n",
       "      <td>other</td>\n",
       "      <td>2012-01-01</td>\n",
       "      <td>2012-01</td>\n",
       "      <td>2012-Q1</td>\n",
       "      <td>2012</td>\n",
       "      <td>20000.0</td>\n",
       "    </tr>\n",
       "    <tr>\n",
       "      <th>3</th>\n",
       "      <td>/company/zoopshop</td>\n",
       "      <td>ZoopShop</td>\n",
       "      <td>software</td>\n",
       "      <td>USA</td>\n",
       "      <td>OH</td>\n",
       "      <td>Columbus</td>\n",
       "      <td>columbus</td>\n",
       "      <td>/company/10xelerator</td>\n",
       "      <td>10Xelerator</td>\n",
       "      <td>finance</td>\n",
       "      <td>USA</td>\n",
       "      <td>OH</td>\n",
       "      <td>Columbus</td>\n",
       "      <td>Columbus</td>\n",
       "      <td>angel</td>\n",
       "      <td>2012-02-15</td>\n",
       "      <td>2012-02</td>\n",
       "      <td>2012-Q1</td>\n",
       "      <td>2012</td>\n",
       "      <td>20000.0</td>\n",
       "    </tr>\n",
       "    <tr>\n",
       "      <th>4</th>\n",
       "      <td>/company/efuneral</td>\n",
       "      <td>eFuneral</td>\n",
       "      <td>web</td>\n",
       "      <td>USA</td>\n",
       "      <td>OH</td>\n",
       "      <td>Cleveland</td>\n",
       "      <td>Cleveland</td>\n",
       "      <td>/company/10xelerator</td>\n",
       "      <td>10Xelerator</td>\n",
       "      <td>finance</td>\n",
       "      <td>USA</td>\n",
       "      <td>OH</td>\n",
       "      <td>Columbus</td>\n",
       "      <td>Columbus</td>\n",
       "      <td>other</td>\n",
       "      <td>2011-09-08</td>\n",
       "      <td>2011-09</td>\n",
       "      <td>2011-Q3</td>\n",
       "      <td>2011</td>\n",
       "      <td>20000.0</td>\n",
       "    </tr>\n",
       "  </tbody>\n",
       "</table>\n",
       "</div>"
      ],
      "text/plain": [
       "     company_permalink company_name company_category_code  \\\n",
       "0    /company/advercar     AdverCar           advertising   \n",
       "1  /company/launchgram   LaunchGram                  news   \n",
       "2        /company/utap         uTaP             messaging   \n",
       "3    /company/zoopshop     ZoopShop              software   \n",
       "4    /company/efuneral     eFuneral                   web   \n",
       "\n",
       "  company_country_code company_state_code         company_region  \\\n",
       "0                  USA                 CA                 SF Bay   \n",
       "1                  USA                 CA                 SF Bay   \n",
       "2                  USA               None  United States - Other   \n",
       "3                  USA                 OH               Columbus   \n",
       "4                  USA                 OH              Cleveland   \n",
       "\n",
       "    company_city          investor_permalink      investor_name  \\\n",
       "0  San Francisco  /company/1-800-flowers-com  1-800-FLOWERS.COM   \n",
       "1  Mountain View        /company/10xelerator        10Xelerator   \n",
       "2           None        /company/10xelerator        10Xelerator   \n",
       "3       columbus        /company/10xelerator        10Xelerator   \n",
       "4      Cleveland        /company/10xelerator        10Xelerator   \n",
       "\n",
       "  investor_category_code investor_country_code investor_state_code  \\\n",
       "0                   None                   USA                  NY   \n",
       "1                finance                   USA                  OH   \n",
       "2                finance                   USA                  OH   \n",
       "3                finance                   USA                  OH   \n",
       "4                finance                   USA                  OH   \n",
       "\n",
       "  investor_region investor_city funding_round_type   funded_at funded_month  \\\n",
       "0        New York      New York           series-a  2012-10-30      2012-10   \n",
       "1        Columbus      Columbus              other  2012-01-23      2012-01   \n",
       "2        Columbus      Columbus              other  2012-01-01      2012-01   \n",
       "3        Columbus      Columbus              angel  2012-02-15      2012-02   \n",
       "4        Columbus      Columbus              other  2011-09-08      2011-09   \n",
       "\n",
       "  funded_quarter  funded_year  raised_amount_usd  \n",
       "0        2012-Q4         2012          2000000.0  \n",
       "1        2012-Q1         2012            20000.0  \n",
       "2        2012-Q1         2012            20000.0  \n",
       "3        2012-Q1         2012            20000.0  \n",
       "4        2011-Q3         2011            20000.0  "
      ]
     },
     "execution_count": 187,
     "metadata": {},
     "output_type": "execute_result"
    }
   ],
   "source": [
    "data_5"
   ]
  },
  {
   "cell_type": "markdown",
   "metadata": {},
   "source": [
    "Which category of company attracted the most investments?"
   ]
  },
  {
   "cell_type": "code",
   "execution_count": 188,
   "metadata": {},
   "outputs": [],
   "source": [
    "q = '''SELECT company_category_code, count(*) AS counts \n",
    "    from investments \n",
    "    GROUP BY company_category_code \n",
    "    ORDER BY counts desc;'''"
   ]
  },
  {
   "cell_type": "code",
   "execution_count": 189,
   "metadata": {},
   "outputs": [],
   "source": [
    "data = pd.read_sql_query(q, conn)"
   ]
  },
  {
   "cell_type": "code",
   "execution_count": 190,
   "metadata": {},
   "outputs": [
    {
     "data": {
      "text/html": [
       "<div>\n",
       "<style scoped>\n",
       "    .dataframe tbody tr th:only-of-type {\n",
       "        vertical-align: middle;\n",
       "    }\n",
       "\n",
       "    .dataframe tbody tr th {\n",
       "        vertical-align: top;\n",
       "    }\n",
       "\n",
       "    .dataframe thead th {\n",
       "        text-align: right;\n",
       "    }\n",
       "</style>\n",
       "<table border=\"1\" class=\"dataframe\">\n",
       "  <thead>\n",
       "    <tr style=\"text-align: right;\">\n",
       "      <th></th>\n",
       "      <th>company_category_code</th>\n",
       "      <th>counts</th>\n",
       "    </tr>\n",
       "  </thead>\n",
       "  <tbody>\n",
       "    <tr>\n",
       "      <th>0</th>\n",
       "      <td>software</td>\n",
       "      <td>7243</td>\n",
       "    </tr>\n",
       "    <tr>\n",
       "      <th>1</th>\n",
       "      <td>web</td>\n",
       "      <td>5015</td>\n",
       "    </tr>\n",
       "    <tr>\n",
       "      <th>2</th>\n",
       "      <td>biotech</td>\n",
       "      <td>4951</td>\n",
       "    </tr>\n",
       "    <tr>\n",
       "      <th>3</th>\n",
       "      <td>enterprise</td>\n",
       "      <td>4489</td>\n",
       "    </tr>\n",
       "    <tr>\n",
       "      <th>4</th>\n",
       "      <td>mobile</td>\n",
       "      <td>4067</td>\n",
       "    </tr>\n",
       "    <tr>\n",
       "      <th>5</th>\n",
       "      <td>advertising</td>\n",
       "      <td>3200</td>\n",
       "    </tr>\n",
       "    <tr>\n",
       "      <th>6</th>\n",
       "      <td>ecommerce</td>\n",
       "      <td>2168</td>\n",
       "    </tr>\n",
       "    <tr>\n",
       "      <th>7</th>\n",
       "      <td>cleantech</td>\n",
       "      <td>1948</td>\n",
       "    </tr>\n",
       "    <tr>\n",
       "      <th>8</th>\n",
       "      <td>games_video</td>\n",
       "      <td>1893</td>\n",
       "    </tr>\n",
       "    <tr>\n",
       "      <th>9</th>\n",
       "      <td>analytics</td>\n",
       "      <td>1863</td>\n",
       "    </tr>\n",
       "  </tbody>\n",
       "</table>\n",
       "</div>"
      ],
      "text/plain": [
       "  company_category_code  counts\n",
       "0              software    7243\n",
       "1                   web    5015\n",
       "2               biotech    4951\n",
       "3            enterprise    4489\n",
       "4                mobile    4067\n",
       "5           advertising    3200\n",
       "6             ecommerce    2168\n",
       "7             cleantech    1948\n",
       "8           games_video    1893\n",
       "9             analytics    1863"
      ]
     },
     "execution_count": 190,
     "metadata": {},
     "output_type": "execute_result"
    }
   ],
   "source": [
    "data.head(10)"
   ]
  },
  {
   "cell_type": "code",
   "execution_count": 191,
   "metadata": {},
   "outputs": [
    {
     "data": {
      "image/png": "[encoded data removed]",
      "text/plain": [
       "<Figure size 432x288 with 1 Axes>"
      ]
     },
     "metadata": {
      "needs_background": "light"
     },
     "output_type": "display_data"
    }
   ],
   "source": [
    "data.head(10).plot(kind='bar', x = 'company_category_code', y = 'counts', legend=False)\n",
    "plt.show()"
   ]
  },
  {
   "cell_type": "markdown",
   "metadata": {},
   "source": [
    "## More file formats"
   ]
  },
  {
   "cell_type": "markdown",
   "metadata": {},
   "source": [
    "- [Big Data file formats](https://luminousmen.com/post/big-data-file-formats)"
   ]
  },
  {
   "cell_type": "markdown",
   "metadata": {},
   "source": [
    "### [Parquet](https://parquet.apache.org/)"
   ]
  },
  {
   "cell_type": "markdown",
   "metadata": {},
   "source": [
    "Launched in 2013, Parquet was developed by Cloudera and Twitter to serve as a column-based storage format, optimized for work with multi-column datasets. Because data is stored by columns, it can be highly compressed (compression algorithms perform better on data with low information entropy which is usually contained in columns) and splittable. The developers of the format claim that this storage format is ideal for Big Data problems."
   ]
  },
  {
   "cell_type": "markdown",
   "metadata": {},
   "source": [
    "### [Avro](https://avro.apache.org/)"
   ]
  },
  {
   "cell_type": "markdown",
   "metadata": {},
   "source": [
    "Apache Avro was released by the Hadoop working group in 2009. It is a row-based format that is highly splittable. It also described as a data serialization system similar to Java Serialization. The schema is stored in JSON format while the data is stored in binary format, minimizing file size and maximizing efficiency. Avro has robust support for schema evolution by managing added fields, missing fields, and fields that have changed. This allows old software to read the new data and new software to read the old data — a critical feature if your data has the potential to change."
   ]
  },
  {
   "cell_type": "markdown",
   "metadata": {},
   "source": [
    "### [Feather](https://github.com/wesm/feather)"
   ]
  },
  {
   "cell_type": "markdown",
   "metadata": {},
   "source": [
    "Feather provides binary columnar serialization for data frames. It is designed to make reading and writing data frames efficient, and to make sharing data across data analysis languages easy. Feather uses the Apache Arrow columnar memory specification to represent binary data on disk. This makes read and write operations very fast. This is particularly important for encoding null/NA values and variable-length types like UTF8 strings.\n",
    "\n",
    "Feather is a part of the broader Apache Arrow project. Feather defines its own simplified schemas and metadata for on-disk representation."
   ]
  },
  {
   "cell_type": "markdown",
   "metadata": {},
   "source": [
    "### [HDF5](https://portal.hdfgroup.org/display/knowledge/What+is+HDF5)"
   ]
  },
  {
   "cell_type": "markdown",
   "metadata": {},
   "source": [
    "HDF5 is a unique technology suite that makes possible the management of extremely large and complex data collections.\n",
    "\n",
    "The HDF5 technology suite is designed to organize, store, discover, access, analyze, share, and preserve diverse, complex data in continuously evolving heterogeneous computing and storage environments.\n",
    "\n",
    "HDF5 supports all types of data stored digitally, regardless of origin or size. Petabytes of remote sensing data collected by satellites, terabytes of computational results from nuclear testing models, and megabytes of high-resolution MRI brain scans are stored in HDF5 files, together with metadata necessary for efficient data sharing, processing, visualization, and archiving."
   ]
  },
  {
   "cell_type": "markdown",
   "metadata": {},
   "source": [
    "## Druga zanimiva orodja"
   ]
  },
  {
   "cell_type": "markdown",
   "metadata": {},
   "source": [
    "### Dask"
   ]
  },
  {
   "cell_type": "markdown",
   "metadata": {},
   "source": [
    "- [Dokumentacija](https://docs.dask.org/en/latest/)\n",
    "- [How to handle large datasets in Python with Pandas and Dask](https://towardsdatascience.com/how-to-handle-large-datasets-in-python-with-pandas-and-dask-34f43a897d55)"
   ]
  },
  {
   "cell_type": "markdown",
   "metadata": {},
   "source": [
    "<p><em>Dask is a flexible library for parallel computing in Python.</em></p>\n",
    "<p>Dask is composed of two parts:</p>\n",
    "    <ol class=\"arabic simple\">\n",
    "<li><strong>Dynamic task scheduling</strong> optimized for computation. This is similar to\n",
    "<em>Airflow, Luigi, Celery, or Make</em>, but optimized for interactive\n",
    "computational workloads.</li>\n",
    "<li><strong>“Big Data” collections</strong> like parallel arrays, dataframes, and lists that\n",
    "extend common interfaces like <em>NumPy, Pandas, or Python iterators</em> to\n",
    "larger-than-memory or distributed environments. These parallel collections\n",
    "run on top of dynamic task schedulers.</li>\n",
    "</ol>"
   ]
  }
 ],
 "metadata": {
  "kernelspec": {
   "display_name": "Python 3",
   "language": "python",
   "name": "python3"
  },
  "language_info": {
   "codemirror_mode": {
    "name": "ipython",
    "version": 3
   },
   "file_extension": ".py",
   "mimetype": "text/x-python",
   "name": "python",
   "nbconvert_exporter": "python",
   "pygments_lexer": "ipython3",
   "version": "3.7.3"
  }
 },
 "nbformat": 4,
 "nbformat_minor": 2
}
